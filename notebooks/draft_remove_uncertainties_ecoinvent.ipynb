{
 "cells": [
  {
   "cell_type": "markdown",
   "id": "9fbf4589",
   "metadata": {},
   "source": [
    "# Remove the uncertainties from the ecoinvent 3.6 cut-off database\n",
    "\n",
    "The database without uncertainty is used to assess the foreground vs foreground + background uncertainties for LCA. Based on the study of Ayala et al. 2023 and based on the jupyter notebook of MAssimo Pizzol: https://github.com/massimopizzol/seaweed-bioplastic-lca/blob/main/Code/Seaweed-Bioplastic-LCA.ipynb"
   ]
  },
  {
   "cell_type": "markdown",
   "id": "b04aa454",
   "metadata": {},
   "source": [
    "## Set up the directories"
   ]
  },
  {
   "cell_type": "code",
   "execution_count": 1,
   "id": "859f5b18",
   "metadata": {},
   "outputs": [
    {
     "name": "stdout",
     "output_type": "stream",
     "text": [
      "/home/leabraud/OneDrive/UCD/paper3_LCA/python_code\n",
      "/home/leabraud/OneDrive/UCD/paper3_LCA\n",
      "/home/leabraud/OneDrive/UCD/paper3_LCA/databases/ecoinvent_3.6_cut-off_ecoSpold02_complete/datasets\n"
     ]
    }
   ],
   "source": [
    "import os\n",
    "import sys\n",
    "\n",
    "# Set up the directory in which the modules to be loaded are saved\n",
    "mdir = '/home/leabraud/OneDrive/UCD/spiralgorithm/lca_calc'\n",
    "\n",
    "if mdir not in sys.path:\n",
    "    sys.path.insert(0,mdir)\n",
    "    \n",
    "# Set up the working directory in which the results will be saved\n",
    "wdir = '/home/leabraud/OneDrive/UCD/paper3_LCA/python_code'\n",
    "\n",
    "# Set directory for Excel files with the information regarding the ecoinvent 3.6 datasets to be used\n",
    "ddir = '/home/leabraud/OneDrive/UCD/spiralgorithm/datasets/ecoinvent_datasets.xlsx'\n",
    "\n",
    "# Set up the recipe directory in which the recipes for each figure are saved\n",
    "rdir = '/home/leabraud/OneDrive/UCD/paper3_LCA/python_code/recipes'\n",
    "\n",
    "print(wdir)\n",
    "print(os.path.dirname(wdir))\n",
    "ei36dir = os.path.join(os.path.dirname(wdir),'databases/ecoinvent_3.6_cut-off_ecoSpold02_complete/datasets')\n",
    "print(ei36dir)"
   ]
  },
  {
   "cell_type": "markdown",
   "id": "1cac876f",
   "metadata": {},
   "source": [
    "## Select BW project"
   ]
  },
  {
   "cell_type": "code",
   "execution_count": 2,
   "id": "9338ae23",
   "metadata": {},
   "outputs": [
    {
     "name": "stdout",
     "output_type": "stream",
     "text": [
      "\n",
      " --------------\n",
      "| SPIRALGORITHM |\n",
      " --------------\n",
      "\n",
      "\n",
      "> PREPARATION:\n",
      "  ------------\n",
      "Working directory: /home/leabraud/OneDrive/UCD/paper3_LCA/python_code\n",
      "Project directory: /home/leabraud/OneDrive/UCD/paper3_LCA/python_code/projects\n",
      "Recipe directory: /home/leabraud/OneDrive/UCD/paper3_LCA/python_code/recipes\n",
      "\n",
      "\n",
      "> INITIATE LCA ANALYSIS:\n",
      "  ----------------------\n",
      "Using environment variable BRIGHTWAY2_DIR for data directory:\n",
      "/home/leabraud/OneDrive/UCD/paper3_LCA/python_code/projects\n",
      "\n",
      ">>> BW2 PROJECT:\n",
      "\n",
      "Current project directory: /home/leabraud/OneDrive/UCD/paper3_LCA/python_code/projects/default.c21f969b5f03d33d43e04f8f136e7682 \n",
      "Brightway2 projects manager with 4 objects:\n",
      "\tdefault\n",
      "\tspiralg\n",
      "\tspiralg2\n",
      "\tspiralg_uncert\n",
      "Use `projects.report()` to get a report on all projects.\n",
      "Create a new project? y/[n]: n\n",
      "Choose a working project [default]: spiralg2\n"
     ]
    },
    {
     "name": "stderr",
     "output_type": "stream",
     "text": [
      "Writing activities to SQLite3 database:\n"
     ]
    },
    {
     "name": "stdout",
     "output_type": "stream",
     "text": [
      "\n",
      "Current project: spiralg2\n",
      "\n",
      ">>> IMPORT BIOSPHERE 3:\n",
      "\n",
      "biosphere3 has already been imported in the project.\n",
      "\n",
      ">>> IMPORT ECOINVENT 3.6:\n",
      "\n",
      "/home/leabraud/OneDrive/UCD/paper3_LCA/python_code/databases/ecoinvent_3.6_cut-off_ecoSpold02_complete/datasets\n",
      "ecoinvent_3.6_cutoff has already been imported\n",
      "\n",
      ">>> IMPORT FOREGROUND DATABASE: DB_TRANSPORT_S12TECH_1 \n",
      "\n",
      "/home/leabraud/OneDrive/UCD/paper3_LCA/python_code/databases/db_transport_S12tech_1.bw2package\n"
     ]
    },
    {
     "name": "stderr",
     "output_type": "stream",
     "text": [
      "0% [##] 100% | ETA: 00:00:00\n",
      "Total time elapsed: 00:00:00\n",
      "Writing activities to SQLite3 database:\n"
     ]
    },
    {
     "name": "stdout",
     "output_type": "stream",
     "text": [
      "Title: Writing activities to SQLite3 database:\n",
      "  Started: 08/08/2023 10:13:14\n",
      "  Finished: 08/08/2023 10:13:14\n",
      "  Total time elapsed: 00:00:00\n",
      "  CPU %: 737.90\n",
      "  Memory %: 1.27\n",
      "\n",
      ">>> IMPORT FOREGROUND DATABASE: DB_TRANSPORT_S12TECH_2 \n",
      "\n",
      "/home/leabraud/OneDrive/UCD/paper3_LCA/python_code/databases/db_transport_S12tech_2.bw2package\n"
     ]
    },
    {
     "name": "stderr",
     "output_type": "stream",
     "text": [
      "0% [##] 100% | ETA: 00:00:00\n",
      "Total time elapsed: 00:00:00\n",
      "Writing activities to SQLite3 database:\n"
     ]
    },
    {
     "name": "stdout",
     "output_type": "stream",
     "text": [
      "Title: Writing activities to SQLite3 database:\n",
      "  Started: 08/08/2023 10:13:15\n",
      "  Finished: 08/08/2023 10:13:15\n",
      "  Total time elapsed: 00:00:00\n",
      "  CPU %: 0.00\n",
      "  Memory %: 1.27\n",
      "\n",
      ">>> IMPORT FOREGROUND DATABASE: DB_TRANSPORT_S23TECH_1 \n",
      "\n",
      "/home/leabraud/OneDrive/UCD/paper3_LCA/python_code/databases/db_transport_S23tech_1.bw2package\n"
     ]
    },
    {
     "name": "stderr",
     "output_type": "stream",
     "text": [
      "0% [##] 100% | ETA: 00:00:00\n",
      "Total time elapsed: 00:00:00\n",
      "Writing activities to SQLite3 database:\n"
     ]
    },
    {
     "name": "stdout",
     "output_type": "stream",
     "text": [
      "Title: Writing activities to SQLite3 database:\n",
      "  Started: 08/08/2023 10:13:15\n",
      "  Finished: 08/08/2023 10:13:15\n",
      "  Total time elapsed: 00:00:00\n",
      "  CPU %: 0.00\n",
      "  Memory %: 1.27\n",
      "\n",
      ">>> IMPORT FOREGROUND DATABASE: DB_TRANSPORT_S23TECH_2 \n",
      "\n",
      "/home/leabraud/OneDrive/UCD/paper3_LCA/python_code/databases/db_transport_S23tech_2.bw2package\n"
     ]
    },
    {
     "name": "stderr",
     "output_type": "stream",
     "text": [
      "0% [##] 100% | ETA: 00:00:00\n",
      "Total time elapsed: 00:00:00\n"
     ]
    },
    {
     "name": "stdout",
     "output_type": "stream",
     "text": [
      "Title: Writing activities to SQLite3 database:\n",
      "  Started: 08/08/2023 10:13:15\n",
      "  Finished: 08/08/2023 10:13:15\n",
      "  Total time elapsed: 00:00:00\n",
      "  CPU %: 0.00\n",
      "  Memory %: 1.28\n"
     ]
    },
    {
     "name": "stderr",
     "output_type": "stream",
     "text": [
      "Writing activities to SQLite3 database:\n"
     ]
    },
    {
     "name": "stdout",
     "output_type": "stream",
     "text": [
      "\n",
      ">>> IMPORT FOREGROUND DATABASE: DB_INFRASTRUCTURESTECH_1 \n",
      "\n",
      "/home/leabraud/OneDrive/UCD/paper3_LCA/python_code/databases/db_infrastructurestech_1.bw2package\n"
     ]
    },
    {
     "name": "stderr",
     "output_type": "stream",
     "text": [
      "0% [##] 100% | ETA: 00:00:00\n",
      "Total time elapsed: 00:00:00\n"
     ]
    },
    {
     "name": "stdout",
     "output_type": "stream",
     "text": [
      "Title: Writing activities to SQLite3 database:\n",
      "  Started: 08/08/2023 10:13:15\n",
      "  Finished: 08/08/2023 10:13:15\n",
      "  Total time elapsed: 00:00:00\n",
      "  CPU %: 0.00\n",
      "  Memory %: 1.28\n",
      "\n",
      ">>> IMPORT FOREGROUND DATABASE: DB_INFRASTRUCTURESTECH_2 \n",
      "\n",
      "/home/leabraud/OneDrive/UCD/paper3_LCA/python_code/databases/db_infrastructurestech_2.bw2package\n"
     ]
    },
    {
     "name": "stderr",
     "output_type": "stream",
     "text": [
      "Writing activities to SQLite3 database:\n",
      "0% [##] 100% | ETA: 00:00:00\n",
      "Total time elapsed: 00:00:00\n"
     ]
    },
    {
     "name": "stdout",
     "output_type": "stream",
     "text": [
      "Title: Writing activities to SQLite3 database:\n",
      "  Started: 08/08/2023 10:13:15\n",
      "  Finished: 08/08/2023 10:13:15\n",
      "  Total time elapsed: 00:00:00\n",
      "  CPU %: 0.00\n",
      "  Memory %: 1.28\n",
      "\n",
      ">>> IMPORT FOREGROUND DATABASE: DB_OPERATIONTECH_1 \n",
      "\n",
      "/home/leabraud/OneDrive/UCD/paper3_LCA/python_code/databases/db_operationtech_1.bw2package\n"
     ]
    },
    {
     "name": "stderr",
     "output_type": "stream",
     "text": [
      "Writing activities to SQLite3 database:\n",
      "0% [##] 100% | ETA: 00:00:00\n",
      "Total time elapsed: 00:00:00\n"
     ]
    },
    {
     "name": "stdout",
     "output_type": "stream",
     "text": [
      "Title: Writing activities to SQLite3 database:\n",
      "  Started: 08/08/2023 10:13:15\n",
      "  Finished: 08/08/2023 10:13:15\n",
      "  Total time elapsed: 00:00:00\n",
      "  CPU %: 0.00\n",
      "  Memory %: 1.28\n",
      "\n",
      ">>> IMPORT FOREGROUND DATABASE: DB_OPERATIONTECH_2 \n",
      "\n",
      "/home/leabraud/OneDrive/UCD/paper3_LCA/python_code/databases/db_operationtech_2.bw2package\n"
     ]
    },
    {
     "name": "stderr",
     "output_type": "stream",
     "text": [
      "Writing activities to SQLite3 database:\n",
      "0% [##] 100% | ETA: 00:00:00\n",
      "Total time elapsed: 00:00:00\n"
     ]
    },
    {
     "name": "stdout",
     "output_type": "stream",
     "text": [
      "Title: Writing activities to SQLite3 database:\n",
      "  Started: 08/08/2023 10:13:15\n",
      "  Finished: 08/08/2023 10:13:15\n",
      "  Total time elapsed: 00:00:00\n",
      "  CPU %: 0.00\n",
      "  Memory %: 1.28\n"
     ]
    },
    {
     "name": "stderr",
     "output_type": "stream",
     "text": [
      "Writing activities to SQLite3 database:\n"
     ]
    },
    {
     "name": "stdout",
     "output_type": "stream",
     "text": [
      "\n",
      ">>> IMPORT FOREGROUND DATABASE: DB_S1TECH_1 \n",
      "\n",
      "/home/leabraud/OneDrive/UCD/paper3_LCA/python_code/databases/db_S1tech_1.bw2package\n"
     ]
    },
    {
     "name": "stderr",
     "output_type": "stream",
     "text": [
      "0% [#######] 100% | ETA: 00:00:00\n",
      "Total time elapsed: 00:00:00\n"
     ]
    },
    {
     "name": "stdout",
     "output_type": "stream",
     "text": [
      "Title: Writing activities to SQLite3 database:\n",
      "  Started: 08/08/2023 10:13:15\n",
      "  Finished: 08/08/2023 10:13:15\n",
      "  Total time elapsed: 00:00:00\n",
      "  CPU %: 0.00\n",
      "  Memory %: 1.28\n"
     ]
    },
    {
     "name": "stderr",
     "output_type": "stream",
     "text": [
      "Writing activities to SQLite3 database:\n"
     ]
    },
    {
     "name": "stdout",
     "output_type": "stream",
     "text": [
      "\n",
      ">>> IMPORT FOREGROUND DATABASE: DB_S1TECH_2 \n",
      "\n",
      "/home/leabraud/OneDrive/UCD/paper3_LCA/python_code/databases/db_S1tech_2.bw2package\n"
     ]
    },
    {
     "name": "stderr",
     "output_type": "stream",
     "text": [
      "0% [#######] 100% | ETA: 00:00:00\n",
      "Total time elapsed: 00:00:00\n"
     ]
    },
    {
     "name": "stdout",
     "output_type": "stream",
     "text": [
      "Title: Writing activities to SQLite3 database:\n",
      "  Started: 08/08/2023 10:13:15\n",
      "  Finished: 08/08/2023 10:13:15\n",
      "  Total time elapsed: 00:00:00\n",
      "  CPU %: 528.80\n",
      "  Memory %: 1.28\n",
      "\n",
      ">>> IMPORT FOREGROUND DATABASE: DB_S2TECH_1 \n",
      "\n",
      "/home/leabraud/OneDrive/UCD/paper3_LCA/python_code/databases/db_S2tech_1.bw2package\n"
     ]
    },
    {
     "name": "stderr",
     "output_type": "stream",
     "text": [
      "Writing activities to SQLite3 database:\n",
      "0% [##########] 100% | ETA: 00:00:00\n",
      "Total time elapsed: 00:00:00\n"
     ]
    },
    {
     "name": "stdout",
     "output_type": "stream",
     "text": [
      "Title: Writing activities to SQLite3 database:\n",
      "  Started: 08/08/2023 10:13:15\n",
      "  Finished: 08/08/2023 10:13:15\n",
      "  Total time elapsed: 00:00:00\n",
      "  CPU %: 0.00\n",
      "  Memory %: 1.28\n"
     ]
    },
    {
     "name": "stderr",
     "output_type": "stream",
     "text": [
      "Writing activities to SQLite3 database:\n"
     ]
    },
    {
     "name": "stdout",
     "output_type": "stream",
     "text": [
      "\n",
      ">>> IMPORT FOREGROUND DATABASE: DB_S2TECH_2 \n",
      "\n",
      "/home/leabraud/OneDrive/UCD/paper3_LCA/python_code/databases/db_S2tech_2.bw2package\n"
     ]
    },
    {
     "name": "stderr",
     "output_type": "stream",
     "text": [
      "0% [##########] 100% | ETA: 00:00:00\n",
      "Total time elapsed: 00:00:00\n"
     ]
    },
    {
     "name": "stdout",
     "output_type": "stream",
     "text": [
      "Title: Writing activities to SQLite3 database:\n",
      "  Started: 08/08/2023 10:13:15\n",
      "  Finished: 08/08/2023 10:13:15\n",
      "  Total time elapsed: 00:00:00\n",
      "  CPU %: 0.00\n",
      "  Memory %: 1.28\n",
      "\n",
      ">>> IMPORT FOREGROUND DATABASE: DB_S3TECH_1 \n",
      "\n",
      "/home/leabraud/OneDrive/UCD/paper3_LCA/python_code/databases/db_S3tech_1.bw2package\n"
     ]
    },
    {
     "name": "stderr",
     "output_type": "stream",
     "text": [
      "Writing activities to SQLite3 database:\n",
      "0% [#######] 100% | ETA: 00:00:00\n",
      "Total time elapsed: 00:00:00\n"
     ]
    },
    {
     "name": "stdout",
     "output_type": "stream",
     "text": [
      "Title: Writing activities to SQLite3 database:\n",
      "  Started: 08/08/2023 10:13:15\n",
      "  Finished: 08/08/2023 10:13:15\n",
      "  Total time elapsed: 00:00:00\n",
      "  CPU %: 0.00\n",
      "  Memory %: 1.28\n"
     ]
    },
    {
     "name": "stderr",
     "output_type": "stream",
     "text": [
      "Writing activities to SQLite3 database:\n"
     ]
    },
    {
     "name": "stdout",
     "output_type": "stream",
     "text": [
      "\n",
      ">>> IMPORT FOREGROUND DATABASE: DB_S3TECH_2 \n",
      "\n",
      "/home/leabraud/OneDrive/UCD/paper3_LCA/python_code/databases/db_S3tech_2.bw2package\n"
     ]
    },
    {
     "name": "stderr",
     "output_type": "stream",
     "text": [
      "0% [#######] 100% | ETA: 00:00:00\n",
      "Total time elapsed: 00:00:00\n"
     ]
    },
    {
     "name": "stdout",
     "output_type": "stream",
     "text": [
      "Title: Writing activities to SQLite3 database:\n",
      "  Started: 08/08/2023 10:13:15\n",
      "  Finished: 08/08/2023 10:13:15\n",
      "  Total time elapsed: 00:00:00\n",
      "  CPU %: 0.00\n",
      "  Memory %: 1.28\n",
      "\n",
      "\n",
      " All the background and foreground databases were imported. \n",
      "\n",
      " Databases dictionary with 18 object(s):\n",
      "\tbiosphere3\n",
      "\tdb_S1tech_1\n",
      "\tdb_S1tech_1_uncert\n",
      "\tdb_S1tech_2\n",
      "\tdb_S2tech_1\n",
      "\tdb_S2tech_2\n",
      "\tdb_S3tech_1\n",
      "\tdb_S3tech_2\n",
      "\tdb_infrastructurestech_1\n",
      "\tdb_infrastructurestech_2\n",
      "\tdb_operationtech_1\n",
      "\tdb_operationtech_2\n",
      "\tdb_transport_S12tech_1\n",
      "\tdb_transport_S12tech_2\n",
      "\tdb_transport_S23tech_1\n",
      "\tdb_transport_S23tech_2\n",
      "\tecoinvent_3.6_cutoff\n",
      "\tecoinvent_3.6_cutoff_no_uncertainty\n"
     ]
    }
   ],
   "source": [
    "from master import prep_dir, import_databases, run\n",
    "\n",
    "recipe = prep_dir (wdir = wdir, rdir = rdir, recipe_name = 'recipe_fig2.yml')\n",
    "recipe = import_databases (recipe, wdir)\n",
    "\n",
    "### improve: if the foreground databases are already imported in the project, delete them and rewrite them"
   ]
  },
  {
   "cell_type": "markdown",
   "id": "6f55feca",
   "metadata": {},
   "source": [
    "## Copy the ecoinvent 3.6 cut-off database"
   ]
  },
  {
   "cell_type": "code",
   "execution_count": 4,
   "id": "5554ea18",
   "metadata": {},
   "outputs": [
    {
     "name": "stderr",
     "output_type": "stream",
     "text": [
      "Writing activities to SQLite3 database:\n",
      "0% [##############################] 100% | ETA: 00:00:00\n",
      "Total time elapsed: 00:00:22\n"
     ]
    },
    {
     "name": "stdout",
     "output_type": "stream",
     "text": [
      "Title: Writing activities to SQLite3 database:\n",
      "  Started: 08/08/2023 10:14:19\n",
      "  Finished: 08/08/2023 10:14:41\n",
      "  Total time elapsed: 00:00:22\n",
      "  CPU %: 99.90\n",
      "  Memory %: 32.44\n"
     ]
    }
   ],
   "source": [
    "import brightway2 as bw\n",
    "\n",
    "ei = bw.Database('ecoinvent_3.6_cutoff')\n",
    "ei_no_uncert_name = 'ecoinvent_3.6_cutoff_no_uncertainty'\n",
    "\n",
    "if ei_no_uncert_name not in bw.databases:\n",
    "    ei_no_uncert = ei.copy(ei_no_uncert_name)\n",
    "    \n",
    "else: \n",
    "    print('The database %s already exists.' %ei_no_uncert_name)\n",
    "    del bw.databases['ecoinvent_3.6_cutoff_no_uncertainty']\n",
    "    ei_no_uncert = ei.copy(ei_no_uncert_name)"
   ]
  },
  {
   "cell_type": "code",
   "execution_count": 5,
   "id": "ca0f016a",
   "metadata": {},
   "outputs": [
    {
     "data": {
      "text/plain": [
       "Databases dictionary with 18 object(s):\n",
       "\tbiosphere3\n",
       "\tdb_S1tech_1\n",
       "\tdb_S1tech_1_uncert\n",
       "\tdb_S1tech_2\n",
       "\tdb_S2tech_1\n",
       "\tdb_S2tech_2\n",
       "\tdb_S3tech_1\n",
       "\tdb_S3tech_2\n",
       "\tdb_infrastructurestech_1\n",
       "\tdb_infrastructurestech_2\n",
       "\tdb_operationtech_1\n",
       "\tdb_operationtech_2\n",
       "\tdb_transport_S12tech_1\n",
       "\tdb_transport_S12tech_2\n",
       "\tdb_transport_S23tech_1\n",
       "\tdb_transport_S23tech_2\n",
       "\tecoinvent_3.6_cutoff\n",
       "\tecoinvent_3.6_cutoff_no_uncertainty"
      ]
     },
     "execution_count": 5,
     "metadata": {},
     "output_type": "execute_result"
    }
   ],
   "source": [
    "bw.databases"
   ]
  },
  {
   "cell_type": "markdown",
   "id": "924f69a6",
   "metadata": {},
   "source": [
    "## Remove the uncertainty from the copied database\n",
    "\n",
    "Use Wurst to remove the uncertainty data in the ecoinvent database and export it as BW2 file."
   ]
  },
  {
   "cell_type": "code",
   "execution_count": 12,
   "id": "d0531277",
   "metadata": {},
   "outputs": [],
   "source": [
    "import wurst as w"
   ]
  },
  {
   "cell_type": "code",
   "execution_count": 14,
   "id": "5873eeab",
   "metadata": {},
   "outputs": [
    {
     "name": "stdout",
     "output_type": "stream",
     "text": [
      "Getting activity data\n"
     ]
    },
    {
     "name": "stderr",
     "output_type": "stream",
     "text": [
      "100%|██████████████████████████████████| 18121/18121 [00:00<00:00, 45510.74it/s]\n"
     ]
    },
    {
     "name": "stdout",
     "output_type": "stream",
     "text": [
      "Adding exchange data to activities\n"
     ]
    },
    {
     "name": "stderr",
     "output_type": "stream",
     "text": [
      "100%|████████████████████████████████| 615644/615644 [00:22<00:00, 26931.42it/s]\n"
     ]
    },
    {
     "name": "stdout",
     "output_type": "stream",
     "text": [
      "Filling out exchange data\n"
     ]
    },
    {
     "name": "stderr",
     "output_type": "stream",
     "text": [
      "100%|██████████████████████████████████| 18121/18121 [00:01<00:00, 13479.08it/s]\n"
     ]
    }
   ],
   "source": [
    "data = w.extract_brightway2_databases(['ecoinvent_3.6_cutoff'])"
   ]
  },
  {
   "cell_type": "code",
   "execution_count": 37,
   "id": "6e780b8c",
   "metadata": {},
   "outputs": [
    {
     "data": {
      "text/plain": [
       "18121"
      ]
     },
     "execution_count": 37,
     "metadata": {},
     "output_type": "execute_result"
    }
   ],
   "source": [
    "len(data)"
   ]
  },
  {
   "cell_type": "code",
   "execution_count": 48,
   "id": "034ab4cb",
   "metadata": {},
   "outputs": [],
   "source": [
    "for i in range(len(data)):\n",
    "    for j in range(len(data[i]['exchanges'])):\n",
    "        data[i]['exchanges'][j]['uncertainty type'] = 0    "
   ]
  },
  {
   "cell_type": "code",
   "execution_count": 50,
   "id": "31d5f73c",
   "metadata": {},
   "outputs": [
    {
     "name": "stdout",
     "output_type": "stream",
     "text": [
      "The database ecoinvent_3.6_cutoff_no_uncert already exists. Deleting it.\n",
      "18121 datasets\n",
      "615644 exchanges\n",
      "0 unlinked exchanges\n",
      "  \n"
     ]
    },
    {
     "name": "stderr",
     "output_type": "stream",
     "text": [
      "Writing activities to SQLite3 database:\n",
      "0% [##############################] 100% | ETA: 00:00:00\n",
      "Total time elapsed: 00:00:19\n"
     ]
    },
    {
     "name": "stdout",
     "output_type": "stream",
     "text": [
      "Title: Writing activities to SQLite3 database:\n",
      "  Started: 08/08/2023 10:53:14\n",
      "  Finished: 08/08/2023 10:53:33\n",
      "  Total time elapsed: 00:00:19\n",
      "  CPU %: 100.00\n",
      "  Memory %: 31.00\n",
      "Created database: ecoinvent_3.6_cutoff_no_uncert\n"
     ]
    }
   ],
   "source": [
    "ei_no_uncert_name = 'ecoinvent_3.6_cutoff_no_uncert'\n",
    "\n",
    "if ei_no_uncert_name in bw.databases: \n",
    "    print('The database %s already exists. Deleting it.' %ei_no_uncert_name)\n",
    "    del bw.databases[ei_no_uncert_name]\n",
    "\n",
    "w.write_brightway2_database(data, ei_no_uncert_name)"
   ]
  },
  {
   "cell_type": "code",
   "execution_count": 53,
   "id": "2edbe06e",
   "metadata": {},
   "outputs": [
    {
     "data": {
      "text/plain": [
       "Databases dictionary with 18 object(s):\n",
       "\tbiosphere3\n",
       "\tdb_S1tech_1\n",
       "\tdb_S1tech_1_uncert\n",
       "\tdb_S1tech_2\n",
       "\tdb_S2tech_1\n",
       "\tdb_S2tech_2\n",
       "\tdb_S3tech_1\n",
       "\tdb_S3tech_2\n",
       "\tdb_infrastructurestech_1\n",
       "\tdb_infrastructurestech_2\n",
       "\tdb_operationtech_1\n",
       "\tdb_operationtech_2\n",
       "\tdb_transport_S12tech_1\n",
       "\tdb_transport_S12tech_2\n",
       "\tdb_transport_S23tech_1\n",
       "\tdb_transport_S23tech_2\n",
       "\tecoinvent_3.6_cutoff\n",
       "\tecoinvent_3.6_cutoff_no_uncert"
      ]
     },
     "execution_count": 53,
     "metadata": {},
     "output_type": "execute_result"
    }
   ],
   "source": [
    "bw.databases"
   ]
  },
  {
   "cell_type": "markdown",
   "id": "5e1c3859",
   "metadata": {},
   "source": [
    "## Link the foreground databases with uncertainties to the ecoinvent database without uncertainty\n",
    "\n",
    "Copy the foreground databases and link them to ecoinvent 3.6 cutoff without uncertainties."
   ]
  },
  {
   "cell_type": "code",
   "execution_count": 55,
   "id": "a35b3875",
   "metadata": {},
   "outputs": [
    {
     "name": "stderr",
     "output_type": "stream",
     "text": [
      "Writing activities to SQLite3 database:\n",
      "0% [#######] 100% | ETA: 00:00:00\n",
      "Total time elapsed: 00:00:00\n"
     ]
    },
    {
     "name": "stdout",
     "output_type": "stream",
     "text": [
      "Title: Writing activities to SQLite3 database:\n",
      "  Started: 08/08/2023 11:01:43\n",
      "  Finished: 08/08/2023 11:01:43\n",
      "  Total time elapsed: 00:00:00\n",
      "  CPU %: 0.00\n",
      "  Memory %: 31.13\n"
     ]
    },
    {
     "data": {
      "text/plain": [
       "Brightway2 SQLiteBackend: db_S1tech_1_uncert_nbu"
      ]
     },
     "execution_count": 55,
     "metadata": {},
     "output_type": "execute_result"
    }
   ],
   "source": [
    "# first do it with S1 only (then do it for the rest of the databases)\n",
    "\n",
    "db_S1tech_1_uncert = bw.Database('db_S1tech_1_uncert')\n",
    "\n",
    "\n",
    "# copy the foreground database that is gonna be relinked\n",
    "db_S1tech_1_uncert.copy('db_S1tech_1_uncert_nbu')"
   ]
  },
  {
   "cell_type": "code",
   "execution_count": 56,
   "id": "8cf33852",
   "metadata": {},
   "outputs": [],
   "source": [
    "db_S1tech_1_uncert_nmbu = bw.Database('db_S1tech_1_uncert_nbu')"
   ]
  },
  {
   "cell_type": "code",
   "execution_count": 66,
   "id": "ca7d4532",
   "metadata": {},
   "outputs": [
    {
     "name": "stdout",
     "output_type": "stream",
     "text": [
      "'S1A5Drying' (unit, GLO, None)\n",
      "'S1A3Dewatering' (unit, GLO, None)\n",
      "'model_db_S1tech_1' (unit, GLO, None)\n",
      "'S1A1Cultivation' (unit, GLO, None)\n",
      "'S1A6Packaging' (unit, GLO, None)\n",
      "'S1A4Shaping' (unit, GLO, None)\n",
      "'S1A2Filtration' (unit, GLO, None)\n"
     ]
    }
   ],
   "source": [
    "for act in db_S1tech_1_uncert_nmbu: \n",
    "    print(act)\n",
    "    for exc in act.exchanges():\n",
    "        if exc['input'][0] == 'ecoinvent_3.6_cutoff':\n",
    "            exc[\"input\"] = ('ecoinvent_3.6_cutoff_no_uncert', exc[\"input\"][1])\n",
    "        exc.save()"
   ]
  },
  {
   "cell_type": "markdown",
   "id": "99028525",
   "metadata": {},
   "source": [
    "## Compare the MC results with/without uncertainties in the ecoinvent 3.6 database"
   ]
  },
  {
   "cell_type": "markdown",
   "id": "f24facab",
   "metadata": {},
   "source": [
    "### MC results for S1 without uncertainty + ecoinvent with uncertainty"
   ]
  },
  {
   "cell_type": "code",
   "execution_count": 82,
   "id": "df97c672",
   "metadata": {},
   "outputs": [
    {
     "name": "stdout",
     "output_type": "stream",
     "text": [
      "'model_db_S1tech_1' (unit, GLO, None)\n",
      "\n",
      "LCIA method: ('IPCC 2013', 'climate change', 'GWP 100a')\n",
      "\n",
      "LCA score: 14.17206286953627\n",
      "\n",
      ">> MONTE CARLO ANALYSIS\n"
     ]
    },
    {
     "data": {
      "application/vnd.jupyter.widget-view+json": {
       "model_id": "7e19ede725c44e4ea49717f04296dd2f",
       "version_major": 2,
       "version_minor": 0
      },
      "text/plain": [
       "  0%|          | 0/1000 [00:00<?, ?it/s]"
      ]
     },
     "metadata": {},
     "output_type": "display_data"
    },
    {
     "name": "stdout",
     "output_type": "stream",
     "text": [
      "MC median: 16.039511468944387\n"
     ]
    },
    {
     "data": {
      "text/plain": [
       "Text(0.5, 0, 'lca.score')"
      ]
     },
     "execution_count": 82,
     "metadata": {},
     "output_type": "execute_result"
    },
    {
     "data": {
      "image/png": "[encoded data removed]",
      "text/plain": [
       "<Figure size 640x480 with 1 Axes>"
      ]
     },
     "metadata": {},
     "output_type": "display_data"
    }
   ],
   "source": [
    "import numpy as np\n",
    "import matplotlib.pyplot as plt\n",
    "\n",
    "# MC analysis of wind power production in Sweden \n",
    "\n",
    "db_uncert = bw.Database('db_S1tech_1')\n",
    "\n",
    "# get the activity\n",
    "act_name = 'model_db_S1tech_1'\n",
    "get_act = [act for act in db_uncert if act['name'] == act_name][0]\n",
    "print(get_act)\n",
    "\n",
    "# quick LCA calculation\n",
    "FU = {get_act: 1}\n",
    "method = ('IPCC 2013', 'climate change', 'GWP 100a')\n",
    "print('\\nLCIA method: %s' % str(method))\n",
    "\n",
    "lca = bw.LCA(FU, method)\n",
    "lca.lci()\n",
    "lca.lcia()\n",
    "print('\\nLCA score: %s' %lca.score)\n",
    "\n",
    "# the median is higher than the LCA score\n",
    "# add a progression bar\n",
    "print('\\n>> MONTE CARLO ANALYSIS')\n",
    "mc = bw.MonteCarloLCA(FU, method)  \n",
    "iterations = 1000\n",
    "\n",
    "from tqdm.notebook import tqdm\n",
    "\n",
    "mc_results_nfu_bu = []\n",
    "\n",
    "for i in tqdm(range(iterations)):\n",
    "    mc_results_nfu_bu.append(next(mc))\n",
    "    \n",
    "print('MC median: %s' %np.median(mc_results_nfu_bu))\n",
    "\n",
    "# plot the MC results\n",
    "plt.hist(mc_results_nfu_bu, density=True)\n",
    "plt.ylabel(\"Probability\")\n",
    "plt.xlabel('lca.score')"
   ]
  },
  {
   "cell_type": "markdown",
   "id": "ece810e9",
   "metadata": {},
   "source": [
    "### MC results for S1 with uncertainty + ecoinvent with uncertainty"
   ]
  },
  {
   "cell_type": "code",
   "execution_count": 83,
   "id": "426f4962",
   "metadata": {},
   "outputs": [
    {
     "name": "stdout",
     "output_type": "stream",
     "text": [
      "'model_db_S1tech_1' (unit, GLO, None)\n",
      "\n",
      "LCIA method: ('IPCC 2013', 'climate change', 'GWP 100a')\n",
      "\n",
      "LCA score: 14.172062869536274\n",
      "\n",
      ">> MONTE CARLO ANALYSIS\n"
     ]
    },
    {
     "data": {
      "application/vnd.jupyter.widget-view+json": {
       "model_id": "6df15d94fca54e1ab968d93bbbae9bd3",
       "version_major": 2,
       "version_minor": 0
      },
      "text/plain": [
       "  0%|          | 0/1000 [00:00<?, ?it/s]"
      ]
     },
     "metadata": {},
     "output_type": "display_data"
    },
    {
     "name": "stdout",
     "output_type": "stream",
     "text": [
      "MC median: 22.026988352228003\n"
     ]
    },
    {
     "data": {
      "text/plain": [
       "Text(0.5, 0, 'lca.score')"
      ]
     },
     "execution_count": 83,
     "metadata": {},
     "output_type": "execute_result"
    },
    {
     "data": {
      "image/png": "[encoded data removed]",
      "text/plain": [
       "<Figure size 640x480 with 1 Axes>"
      ]
     },
     "metadata": {},
     "output_type": "display_data"
    }
   ],
   "source": [
    "import numpy as np\n",
    "import matplotlib.pyplot as plt\n",
    "\n",
    "# MC analysis of wind power production in Sweden \n",
    "\n",
    "db_uncert = bw.Database('db_S1tech_1_uncert')\n",
    "\n",
    "# get the activity\n",
    "act_name = 'model_db_S1tech_1'\n",
    "get_act = [act for act in db_uncert if act['name'] == act_name][0]\n",
    "print(get_act)\n",
    "\n",
    "# quick LCA calculation\n",
    "FU = {get_act: 1}\n",
    "method = ('IPCC 2013', 'climate change', 'GWP 100a')\n",
    "print('\\nLCIA method: %s' % str(method))\n",
    "\n",
    "lca = bw.LCA(FU, method)\n",
    "lca.lci()\n",
    "lca.lcia()\n",
    "print('\\nLCA score: %s' %lca.score)\n",
    "\n",
    "# the median is higher than the LCA score\n",
    "# add a progression bar\n",
    "print('\\n>> MONTE CARLO ANALYSIS')\n",
    "mc = bw.MonteCarloLCA(FU, method)  \n",
    "iterations = 1000\n",
    "\n",
    "from tqdm.notebook import tqdm\n",
    "\n",
    "mc_results_fu_bu = []\n",
    "\n",
    "for i in tqdm(range(iterations)):\n",
    "    mc_results_fu_bu.append(next(mc))\n",
    "    \n",
    "print('MC median: %s' %np.median(mc_results_fu_bu))\n",
    "\n",
    "# plot the MC results\n",
    "plt.hist(mc_results_fu_bu, density=True)\n",
    "plt.ylabel(\"Probability\")\n",
    "plt.xlabel('lca.score')"
   ]
  },
  {
   "cell_type": "markdown",
   "id": "b305d6d1",
   "metadata": {},
   "source": [
    "### MC results for S1 with uncertainty + ecoinvent without uncertainty"
   ]
  },
  {
   "cell_type": "code",
   "execution_count": 85,
   "id": "3d90f8bc",
   "metadata": {},
   "outputs": [
    {
     "name": "stdout",
     "output_type": "stream",
     "text": [
      "'model_db_S1tech_1' (unit, GLO, None)\n",
      "\n",
      "LCIA method: ('IPCC 2013', 'climate change', 'GWP 100a')\n",
      "\n",
      "LCA score: 14.172062869536258\n",
      "\n",
      ">> MONTE CARLO ANALYSIS\n"
     ]
    },
    {
     "data": {
      "application/vnd.jupyter.widget-view+json": {
       "model_id": "9c1f7c76cb88429688d5241961716e5a",
       "version_major": 2,
       "version_minor": 0
      },
      "text/plain": [
       "  0%|          | 0/1000 [00:00<?, ?it/s]"
      ]
     },
     "metadata": {},
     "output_type": "display_data"
    },
    {
     "name": "stdout",
     "output_type": "stream",
     "text": [
      "MC median: 21.47346346564953\n"
     ]
    },
    {
     "data": {
      "text/plain": [
       "Text(0.5, 0, 'lca.score')"
      ]
     },
     "execution_count": 85,
     "metadata": {},
     "output_type": "execute_result"
    },
    {
     "data": {
      "image/png": "[encoded data removed]",
      "text/plain": [
       "<Figure size 640x480 with 1 Axes>"
      ]
     },
     "metadata": {},
     "output_type": "display_data"
    }
   ],
   "source": [
    "import numpy as np\n",
    "import matplotlib.pyplot as plt\n",
    "\n",
    "# MC analysis of wind power production in Sweden \n",
    "\n",
    "db_uncert = bw.Database('db_S1tech_1_uncert_nbu')\n",
    "\n",
    "# get the activity\n",
    "act_name = 'model_db_S1tech_1'\n",
    "get_act = [act for act in db_uncert if act['name'] == act_name][0]\n",
    "print(get_act)\n",
    "\n",
    "# quick LCA calculation\n",
    "FU = {get_act: 1}\n",
    "method = ('IPCC 2013', 'climate change', 'GWP 100a')\n",
    "print('\\nLCIA method: %s' % str(method))\n",
    "\n",
    "lca = bw.LCA(FU, method)\n",
    "lca.lci()\n",
    "lca.lcia()\n",
    "print('\\nLCA score: %s' %lca.score)\n",
    "\n",
    "# the median is higher than the LCA score\n",
    "# add a progression bar\n",
    "print('\\n>> MONTE CARLO ANALYSIS')\n",
    "mc = bw.MonteCarloLCA(FU, method)  \n",
    "iterations = 1000\n",
    "\n",
    "from tqdm.notebook import tqdm\n",
    "\n",
    "mc_results_fu_nbu = []\n",
    "\n",
    "for i in tqdm(range(iterations)):\n",
    "    mc_results_fu_nbu.append(next(mc))\n",
    "    \n",
    "print('MC median: %s' %np.median(mc_results_fu_nbu))\n",
    "\n",
    "# plot the MC results\n",
    "plt.hist(mc_results_fu_nbu, density=True)\n",
    "plt.ylabel(\"Probability\")\n",
    "plt.xlabel('lca.score')"
   ]
  },
  {
   "cell_type": "markdown",
   "id": "9cd46a45",
   "metadata": {},
   "source": [
    "### Comparison of the MC results with/without foreground/background uncertainty"
   ]
  },
  {
   "cell_type": "code",
   "execution_count": 90,
   "id": "a4747981",
   "metadata": {},
   "outputs": [
    {
     "data": {
      "text/plain": [
       "Text(0, 0.5, 'kg CO2-eq / FU')"
      ]
     },
     "execution_count": 90,
     "metadata": {},
     "output_type": "execute_result"
    },
    {
     "data": {
      "image/png": "[encoded data removed]",
      "text/plain": [
       "<Figure size 640x480 with 1 Axes>"
      ]
     },
     "metadata": {},
     "output_type": "display_data"
    }
   ],
   "source": [
    "import pandas as pd\n",
    "\n",
    "# dataframe with all the MC results\n",
    "df = pd.DataFrame({'fu/bu': mc_results_fu_bu, 'nfu/bu': mc_results_nfu_bu, 'fu/nbu': mc_results_fu_nbu})\n",
    "df.plot(kind = 'box')\n",
    "plt.xticks(rotation=45)\n",
    "plt.xlabel('')\n",
    "plt.ylabel('kg CO2-eq / FU')"
   ]
  },
  {
   "cell_type": "code",
   "execution_count": 91,
   "id": "8edf917c",
   "metadata": {},
   "outputs": [
    {
     "data": {
      "text/html": [
       "<div>\n",
       "<style scoped>\n",
       "    .dataframe tbody tr th:only-of-type {\n",
       "        vertical-align: middle;\n",
       "    }\n",
       "\n",
       "    .dataframe tbody tr th {\n",
       "        vertical-align: top;\n",
       "    }\n",
       "\n",
       "    .dataframe thead th {\n",
       "        text-align: right;\n",
       "    }\n",
       "</style>\n",
       "<table border=\"1\" class=\"dataframe\">\n",
       "  <thead>\n",
       "    <tr style=\"text-align: right;\">\n",
       "      <th></th>\n",
       "      <th>fu/bu</th>\n",
       "      <th>nfu/bu</th>\n",
       "      <th>fu/nbu</th>\n",
       "    </tr>\n",
       "  </thead>\n",
       "  <tbody>\n",
       "    <tr>\n",
       "      <th>count</th>\n",
       "      <td>1000.000000</td>\n",
       "      <td>1000.000000</td>\n",
       "      <td>1000.000000</td>\n",
       "    </tr>\n",
       "    <tr>\n",
       "      <th>mean</th>\n",
       "      <td>38.845202</td>\n",
       "      <td>16.404699</td>\n",
       "      <td>32.022189</td>\n",
       "    </tr>\n",
       "    <tr>\n",
       "      <th>std</th>\n",
       "      <td>91.982250</td>\n",
       "      <td>2.821961</td>\n",
       "      <td>40.743081</td>\n",
       "    </tr>\n",
       "    <tr>\n",
       "      <th>min</th>\n",
       "      <td>1.698681</td>\n",
       "      <td>10.353180</td>\n",
       "      <td>1.886646</td>\n",
       "    </tr>\n",
       "    <tr>\n",
       "      <th>25%</th>\n",
       "      <td>13.088578</td>\n",
       "      <td>14.490537</td>\n",
       "      <td>11.786385</td>\n",
       "    </tr>\n",
       "    <tr>\n",
       "      <th>50%</th>\n",
       "      <td>22.026988</td>\n",
       "      <td>16.039511</td>\n",
       "      <td>21.473463</td>\n",
       "    </tr>\n",
       "    <tr>\n",
       "      <th>75%</th>\n",
       "      <td>41.348416</td>\n",
       "      <td>17.781232</td>\n",
       "      <td>38.458804</td>\n",
       "    </tr>\n",
       "    <tr>\n",
       "      <th>max</th>\n",
       "      <td>2484.544735</td>\n",
       "      <td>49.056012</td>\n",
       "      <td>540.526094</td>\n",
       "    </tr>\n",
       "  </tbody>\n",
       "</table>\n",
       "</div>"
      ],
      "text/plain": [
       "             fu/bu       nfu/bu       fu/nbu\n",
       "count  1000.000000  1000.000000  1000.000000\n",
       "mean     38.845202    16.404699    32.022189\n",
       "std      91.982250     2.821961    40.743081\n",
       "min       1.698681    10.353180     1.886646\n",
       "25%      13.088578    14.490537    11.786385\n",
       "50%      22.026988    16.039511    21.473463\n",
       "75%      41.348416    17.781232    38.458804\n",
       "max    2484.544735    49.056012   540.526094"
      ]
     },
     "execution_count": 91,
     "metadata": {},
     "output_type": "execute_result"
    }
   ],
   "source": [
    "# stats\n",
    "df.describe()"
   ]
  }
 ],
 "metadata": {
  "kernelspec": {
   "display_name": "Python 3 (ipykernel)",
   "language": "python",
   "name": "python3"
  },
  "language_info": {
   "codemirror_mode": {
    "name": "ipython",
    "version": 3
   },
   "file_extension": ".py",
   "mimetype": "text/x-python",
   "name": "python",
   "nbconvert_exporter": "python",
   "pygments_lexer": "ipython3",
   "version": "3.11.3"
  }
 },
 "nbformat": 4,
 "nbformat_minor": 5
}
