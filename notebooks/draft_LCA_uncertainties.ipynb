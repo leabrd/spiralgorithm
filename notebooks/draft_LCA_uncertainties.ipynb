{
 "cells": [
  {
   "cell_type": "markdown",
   "id": "b51cf64e",
   "metadata": {},
   "source": [
    "# Adding uncertainty to foreground databases using lca-algebraic\n",
    "\n",
    "lca_algebraic's helper functions facilitate the analysis of foreground databases and their modification. Here the parameterisation functionalities are not used. "
   ]
  },
  {
   "cell_type": "markdown",
   "id": "86db43c5",
   "metadata": {},
   "source": [
    "## Set up the directories"
   ]
  },
  {
   "cell_type": "code",
   "execution_count": 37,
   "id": "a8fe7adb",
   "metadata": {},
   "outputs": [
    {
     "name": "stdout",
     "output_type": "stream",
     "text": [
      "/home/leabraud/OneDrive/UCD/paper3_LCA/python_code\n",
      "/home/leabraud/OneDrive/UCD/paper3_LCA\n",
      "/home/leabraud/OneDrive/UCD/paper3_LCA/databases/ecoinvent_3.6_cut-off_ecoSpold02_complete/datasets\n"
     ]
    }
   ],
   "source": [
    "import os\n",
    "import sys\n",
    "\n",
    "# Set up the directory in which the modules to be loaded are saved\n",
    "mdir = '/home/leabraud/OneDrive/UCD/spiralgorithm/lca_calc'\n",
    "\n",
    "if mdir not in sys.path:\n",
    "    sys.path.insert(0,mdir)\n",
    "    \n",
    "# Set up the working directory in which the results will be saved\n",
    "wdir = '/home/leabraud/OneDrive/UCD/paper3_LCA/python_code'\n",
    "\n",
    "# Set directory for Excel files with the information regarding the ecoinvent 3.6 datasets to be used\n",
    "ddir = '/home/leabraud/OneDrive/UCD/spiralgorithm/datasets/ecoinvent_datasets.xlsx'\n",
    "\n",
    "# Set up the recipe directory in which the recipes for each figure are saved\n",
    "rdir = '/home/leabraud/OneDrive/UCD/paper3_LCA/python_code/recipes'\n",
    "\n",
    "print(wdir)\n",
    "print(os.path.dirname(wdir))\n",
    "ei36dir = os.path.join(os.path.dirname(wdir),'databases/ecoinvent_3.6_cut-off_ecoSpold02_complete/datasets')\n",
    "print(ei36dir)"
   ]
  },
  {
   "cell_type": "markdown",
   "id": "857a112d",
   "metadata": {},
   "source": [
    "## Select BW project"
   ]
  },
  {
   "cell_type": "code",
   "execution_count": 2,
   "id": "5fd4735d",
   "metadata": {},
   "outputs": [
    {
     "name": "stdout",
     "output_type": "stream",
     "text": [
      "\n",
      " --------------\n",
      "| SPIRALGORITHM |\n",
      " --------------\n",
      "\n",
      "\n",
      "> PREPARATION:\n",
      "  ------------\n",
      "Working directory: /home/leabraud/OneDrive/UCD/paper3_LCA/python_code\n",
      "Project directory: /home/leabraud/OneDrive/UCD/paper3_LCA/python_code/projects\n",
      "Recipe directory: /home/leabraud/OneDrive/UCD/paper3_LCA/python_code/recipes\n",
      "\n",
      "\n",
      "> INITIATE LCA ANALYSIS:\n",
      "  ----------------------\n",
      "Using environment variable BRIGHTWAY2_DIR for data directory:\n",
      "/home/leabraud/OneDrive/UCD/paper3_LCA/python_code/projects\n",
      "\n",
      ">>> BW2 PROJECT:\n",
      "\n",
      "Current project directory: /home/leabraud/OneDrive/UCD/paper3_LCA/python_code/projects/default.c21f969b5f03d33d43e04f8f136e7682 \n",
      "Brightway2 projects manager with 4 objects:\n",
      "\tdefault\n",
      "\tspiralg\n",
      "\tspiralg2\n",
      "\tspiralg_uncert\n",
      "Use `projects.report()` to get a report on all projects.\n",
      "Create a new project? y/[n]: n\n",
      "Choose a working project [default]: spiralg2\n"
     ]
    },
    {
     "name": "stderr",
     "output_type": "stream",
     "text": [
      "Writing activities to SQLite3 database:\n"
     ]
    },
    {
     "name": "stdout",
     "output_type": "stream",
     "text": [
      "\n",
      "Current project: spiralg2\n",
      "\n",
      ">>> IMPORT BIOSPHERE 3:\n",
      "\n",
      "biosphere3 has already been imported in the project.\n",
      "\n",
      ">>> IMPORT ECOINVENT 3.6:\n",
      "\n",
      "/home/leabraud/OneDrive/UCD/paper3_LCA/python_code/databases/ecoinvent_3.6_cut-off_ecoSpold02_complete/datasets\n",
      "ecoinvent_3.6_cutoff has already been imported\n",
      "\n",
      ">>> IMPORT FOREGROUND DATABASE: DB_TRANSPORT_S12TECH_1 \n",
      "\n",
      "/home/leabraud/OneDrive/UCD/paper3_LCA/python_code/databases/db_transport_S12tech_1.bw2package\n"
     ]
    },
    {
     "name": "stderr",
     "output_type": "stream",
     "text": [
      "0% [##] 100% | ETA: 00:00:00\n",
      "Total time elapsed: 00:00:00\n",
      "Writing activities to SQLite3 database:\n"
     ]
    },
    {
     "name": "stdout",
     "output_type": "stream",
     "text": [
      "Title: Writing activities to SQLite3 database:\n",
      "  Started: 08/08/2023 09:30:36\n",
      "  Finished: 08/08/2023 09:30:36\n",
      "  Total time elapsed: 00:00:00\n",
      "  CPU %: 0.00\n",
      "  Memory %: 1.25\n",
      "\n",
      ">>> IMPORT FOREGROUND DATABASE: DB_TRANSPORT_S12TECH_2 \n",
      "\n",
      "/home/leabraud/OneDrive/UCD/paper3_LCA/python_code/databases/db_transport_S12tech_2.bw2package\n"
     ]
    },
    {
     "name": "stderr",
     "output_type": "stream",
     "text": [
      "0% [##] 100% | ETA: 00:00:00\n",
      "Total time elapsed: 00:00:00\n",
      "Writing activities to SQLite3 database:\n"
     ]
    },
    {
     "name": "stdout",
     "output_type": "stream",
     "text": [
      "Title: Writing activities to SQLite3 database:\n",
      "  Started: 08/08/2023 09:30:36\n",
      "  Finished: 08/08/2023 09:30:36\n",
      "  Total time elapsed: 00:00:00\n",
      "  CPU %: 0.00\n",
      "  Memory %: 1.26\n",
      "\n",
      ">>> IMPORT FOREGROUND DATABASE: DB_TRANSPORT_S23TECH_1 \n",
      "\n",
      "/home/leabraud/OneDrive/UCD/paper3_LCA/python_code/databases/db_transport_S23tech_1.bw2package\n"
     ]
    },
    {
     "name": "stderr",
     "output_type": "stream",
     "text": [
      "0% [##] 100% | ETA: 00:00:00\n",
      "Total time elapsed: 00:00:00\n",
      "Writing activities to SQLite3 database:\n"
     ]
    },
    {
     "name": "stdout",
     "output_type": "stream",
     "text": [
      "Title: Writing activities to SQLite3 database:\n",
      "  Started: 08/08/2023 09:30:36\n",
      "  Finished: 08/08/2023 09:30:36\n",
      "  Total time elapsed: 00:00:00\n",
      "  CPU %: 0.00\n",
      "  Memory %: 1.26\n",
      "\n",
      ">>> IMPORT FOREGROUND DATABASE: DB_TRANSPORT_S23TECH_2 \n",
      "\n",
      "/home/leabraud/OneDrive/UCD/paper3_LCA/python_code/databases/db_transport_S23tech_2.bw2package\n"
     ]
    },
    {
     "name": "stderr",
     "output_type": "stream",
     "text": [
      "0% [##] 100% | ETA: 00:00:00\n",
      "Total time elapsed: 00:00:00\n",
      "Writing activities to SQLite3 database:\n"
     ]
    },
    {
     "name": "stdout",
     "output_type": "stream",
     "text": [
      "Title: Writing activities to SQLite3 database:\n",
      "  Started: 08/08/2023 09:30:36\n",
      "  Finished: 08/08/2023 09:30:36\n",
      "  Total time elapsed: 00:00:00\n",
      "  CPU %: 0.00\n",
      "  Memory %: 1.26\n",
      "\n",
      ">>> IMPORT FOREGROUND DATABASE: DB_INFRASTRUCTURESTECH_1 \n",
      "\n",
      "/home/leabraud/OneDrive/UCD/paper3_LCA/python_code/databases/db_infrastructurestech_1.bw2package\n"
     ]
    },
    {
     "name": "stderr",
     "output_type": "stream",
     "text": [
      "0% [##] 100% | ETA: 00:00:00\n",
      "Total time elapsed: 00:00:00\n"
     ]
    },
    {
     "name": "stdout",
     "output_type": "stream",
     "text": [
      "Title: Writing activities to SQLite3 database:\n",
      "  Started: 08/08/2023 09:30:36\n",
      "  Finished: 08/08/2023 09:30:36\n",
      "  Total time elapsed: 00:00:00\n",
      "  CPU %: 0.00\n",
      "  Memory %: 1.26\n"
     ]
    },
    {
     "name": "stderr",
     "output_type": "stream",
     "text": [
      "Writing activities to SQLite3 database:\n"
     ]
    },
    {
     "name": "stdout",
     "output_type": "stream",
     "text": [
      "\n",
      ">>> IMPORT FOREGROUND DATABASE: DB_INFRASTRUCTURESTECH_2 \n",
      "\n",
      "/home/leabraud/OneDrive/UCD/paper3_LCA/python_code/databases/db_infrastructurestech_2.bw2package\n"
     ]
    },
    {
     "name": "stderr",
     "output_type": "stream",
     "text": [
      "0% [##] 100% | ETA: 00:00:00\n",
      "Total time elapsed: 00:00:00\n"
     ]
    },
    {
     "name": "stdout",
     "output_type": "stream",
     "text": [
      "Title: Writing activities to SQLite3 database:\n",
      "  Started: 08/08/2023 09:30:36\n",
      "  Finished: 08/08/2023 09:30:36\n",
      "  Total time elapsed: 00:00:00\n",
      "  CPU %: 0.00\n",
      "  Memory %: 1.26\n"
     ]
    },
    {
     "name": "stderr",
     "output_type": "stream",
     "text": [
      "Writing activities to SQLite3 database:\n"
     ]
    },
    {
     "name": "stdout",
     "output_type": "stream",
     "text": [
      "\n",
      ">>> IMPORT FOREGROUND DATABASE: DB_OPERATIONTECH_1 \n",
      "\n",
      "/home/leabraud/OneDrive/UCD/paper3_LCA/python_code/databases/db_operationtech_1.bw2package\n"
     ]
    },
    {
     "name": "stderr",
     "output_type": "stream",
     "text": [
      "0% [##] 100% | ETA: 00:00:00\n",
      "Total time elapsed: 00:00:00\n"
     ]
    },
    {
     "name": "stdout",
     "output_type": "stream",
     "text": [
      "Title: Writing activities to SQLite3 database:\n",
      "  Started: 08/08/2023 09:30:36\n",
      "  Finished: 08/08/2023 09:30:36\n",
      "  Total time elapsed: 00:00:00\n",
      "  CPU %: 0.00\n",
      "  Memory %: 1.26\n"
     ]
    },
    {
     "name": "stderr",
     "output_type": "stream",
     "text": [
      "Writing activities to SQLite3 database:\n"
     ]
    },
    {
     "name": "stdout",
     "output_type": "stream",
     "text": [
      "\n",
      ">>> IMPORT FOREGROUND DATABASE: DB_OPERATIONTECH_2 \n",
      "\n",
      "/home/leabraud/OneDrive/UCD/paper3_LCA/python_code/databases/db_operationtech_2.bw2package\n"
     ]
    },
    {
     "name": "stderr",
     "output_type": "stream",
     "text": [
      "0% [##] 100% | ETA: 00:00:00\n",
      "Total time elapsed: 00:00:00\n"
     ]
    },
    {
     "name": "stdout",
     "output_type": "stream",
     "text": [
      "Title: Writing activities to SQLite3 database:\n",
      "  Started: 08/08/2023 09:30:36\n",
      "  Finished: 08/08/2023 09:30:36\n",
      "  Total time elapsed: 00:00:00\n",
      "  CPU %: 635.50\n",
      "  Memory %: 1.26\n"
     ]
    },
    {
     "name": "stderr",
     "output_type": "stream",
     "text": [
      "Writing activities to SQLite3 database:\n"
     ]
    },
    {
     "name": "stdout",
     "output_type": "stream",
     "text": [
      "\n",
      ">>> IMPORT FOREGROUND DATABASE: DB_S1TECH_1 \n",
      "\n",
      "/home/leabraud/OneDrive/UCD/paper3_LCA/python_code/databases/db_S1tech_1.bw2package\n"
     ]
    },
    {
     "name": "stderr",
     "output_type": "stream",
     "text": [
      "0% [#######] 100% | ETA: 00:00:00\n",
      "Total time elapsed: 00:00:00\n"
     ]
    },
    {
     "name": "stdout",
     "output_type": "stream",
     "text": [
      "Title: Writing activities to SQLite3 database:\n",
      "  Started: 08/08/2023 09:30:36\n",
      "  Finished: 08/08/2023 09:30:36\n",
      "  Total time elapsed: 00:00:00\n",
      "  CPU %: 0.00\n",
      "  Memory %: 1.26\n",
      "\n",
      ">>> IMPORT FOREGROUND DATABASE: DB_S1TECH_2 \n",
      "\n",
      "/home/leabraud/OneDrive/UCD/paper3_LCA/python_code/databases/db_S1tech_2.bw2package\n"
     ]
    },
    {
     "name": "stderr",
     "output_type": "stream",
     "text": [
      "Writing activities to SQLite3 database:\n",
      "0% [#######] 100% | ETA: 00:00:00\n",
      "Total time elapsed: 00:00:00\n"
     ]
    },
    {
     "name": "stdout",
     "output_type": "stream",
     "text": [
      "Title: Writing activities to SQLite3 database:\n",
      "  Started: 08/08/2023 09:30:36\n",
      "  Finished: 08/08/2023 09:30:36\n",
      "  Total time elapsed: 00:00:00\n",
      "  CPU %: 0.00\n",
      "  Memory %: 1.26\n",
      "\n",
      ">>> IMPORT FOREGROUND DATABASE: DB_S2TECH_1 \n",
      "\n",
      "/home/leabraud/OneDrive/UCD/paper3_LCA/python_code/databases/db_S2tech_1.bw2package\n"
     ]
    },
    {
     "name": "stderr",
     "output_type": "stream",
     "text": [
      "Writing activities to SQLite3 database:\n",
      "0% [##########] 100% | ETA: 00:00:00\n",
      "Total time elapsed: 00:00:00\n"
     ]
    },
    {
     "name": "stdout",
     "output_type": "stream",
     "text": [
      "Title: Writing activities to SQLite3 database:\n",
      "  Started: 08/08/2023 09:30:36\n",
      "  Finished: 08/08/2023 09:30:36\n",
      "  Total time elapsed: 00:00:00\n",
      "  CPU %: 0.00\n",
      "  Memory %: 1.26\n"
     ]
    },
    {
     "name": "stderr",
     "output_type": "stream",
     "text": [
      "Writing activities to SQLite3 database:\n"
     ]
    },
    {
     "name": "stdout",
     "output_type": "stream",
     "text": [
      "\n",
      ">>> IMPORT FOREGROUND DATABASE: DB_S2TECH_2 \n",
      "\n",
      "/home/leabraud/OneDrive/UCD/paper3_LCA/python_code/databases/db_S2tech_2.bw2package\n"
     ]
    },
    {
     "name": "stderr",
     "output_type": "stream",
     "text": [
      "0% [##########] 100% | ETA: 00:00:00\n",
      "Total time elapsed: 00:00:00\n"
     ]
    },
    {
     "name": "stdout",
     "output_type": "stream",
     "text": [
      "Title: Writing activities to SQLite3 database:\n",
      "  Started: 08/08/2023 09:30:36\n",
      "  Finished: 08/08/2023 09:30:36\n",
      "  Total time elapsed: 00:00:00\n",
      "  CPU %: 0.00\n",
      "  Memory %: 1.26\n"
     ]
    },
    {
     "name": "stderr",
     "output_type": "stream",
     "text": [
      "Writing activities to SQLite3 database:\n"
     ]
    },
    {
     "name": "stdout",
     "output_type": "stream",
     "text": [
      "\n",
      ">>> IMPORT FOREGROUND DATABASE: DB_S3TECH_1 \n",
      "\n",
      "/home/leabraud/OneDrive/UCD/paper3_LCA/python_code/databases/db_S3tech_1.bw2package\n"
     ]
    },
    {
     "name": "stderr",
     "output_type": "stream",
     "text": [
      "0% [#######] 100% | ETA: 00:00:00\n",
      "Total time elapsed: 00:00:00\n"
     ]
    },
    {
     "name": "stdout",
     "output_type": "stream",
     "text": [
      "Title: Writing activities to SQLite3 database:\n",
      "  Started: 08/08/2023 09:30:36\n",
      "  Finished: 08/08/2023 09:30:36\n",
      "  Total time elapsed: 00:00:00\n",
      "  CPU %: 0.00\n",
      "  Memory %: 1.26\n"
     ]
    },
    {
     "name": "stderr",
     "output_type": "stream",
     "text": [
      "Writing activities to SQLite3 database:\n"
     ]
    },
    {
     "name": "stdout",
     "output_type": "stream",
     "text": [
      "\n",
      ">>> IMPORT FOREGROUND DATABASE: DB_S3TECH_2 \n",
      "\n",
      "/home/leabraud/OneDrive/UCD/paper3_LCA/python_code/databases/db_S3tech_2.bw2package\n"
     ]
    },
    {
     "name": "stderr",
     "output_type": "stream",
     "text": [
      "0% [#######] 100% | ETA: 00:00:00\n",
      "Total time elapsed: 00:00:00\n"
     ]
    },
    {
     "name": "stdout",
     "output_type": "stream",
     "text": [
      "Title: Writing activities to SQLite3 database:\n",
      "  Started: 08/08/2023 09:30:36\n",
      "  Finished: 08/08/2023 09:30:36\n",
      "  Total time elapsed: 00:00:00\n",
      "  CPU %: 525.10\n",
      "  Memory %: 1.26\n",
      "\n",
      "\n",
      " All the background and foreground databases were imported. \n",
      "\n",
      " Databases dictionary with 17 object(s):\n",
      "\tbiosphere3\n",
      "\tdb_S1tech_1\n",
      "\tdb_S1tech_1_uncert\n",
      "\tdb_S1tech_2\n",
      "\tdb_S2tech_1\n",
      "\tdb_S2tech_2\n",
      "\tdb_S3tech_1\n",
      "\tdb_S3tech_2\n",
      "\tdb_infrastructurestech_1\n",
      "\tdb_infrastructurestech_2\n",
      "\tdb_operationtech_1\n",
      "\tdb_operationtech_2\n",
      "\tdb_transport_S12tech_1\n",
      "\tdb_transport_S12tech_2\n",
      "\tdb_transport_S23tech_1\n",
      "\tdb_transport_S23tech_2\n",
      "\tecoinvent_3.6_cutoff\n"
     ]
    }
   ],
   "source": [
    "from master import prep_dir, import_databases, run\n",
    "\n",
    "recipe = prep_dir (wdir = wdir, rdir = rdir, recipe_name = 'recipe_fig2.yml')\n",
    "recipe = import_databases (recipe, wdir)\n",
    "\n",
    "### improve: if the foreground databases are already imported in the project, delete them and rewrite them"
   ]
  },
  {
   "cell_type": "markdown",
   "id": "30e233f8",
   "metadata": {},
   "source": [
    "## Initiate lca-algebraic functions"
   ]
  },
  {
   "cell_type": "code",
   "execution_count": 3,
   "id": "8efb9d31",
   "metadata": {},
   "outputs": [
    {
     "data": {
      "text/html": [
       "<div>\n",
       "<style scoped>\n",
       "    .dataframe tbody tr th:only-of-type {\n",
       "        vertical-align: middle;\n",
       "    }\n",
       "\n",
       "    .dataframe tbody tr th {\n",
       "        vertical-align: top;\n",
       "    }\n",
       "\n",
       "    .dataframe thead th {\n",
       "        text-align: right;\n",
       "    }\n",
       "</style>\n",
       "<table border=\"1\" class=\"dataframe\">\n",
       "  <thead>\n",
       "    <tr style=\"text-align: right;\">\n",
       "      <th></th>\n",
       "      <th>backend</th>\n",
       "      <th>type</th>\n",
       "    </tr>\n",
       "    <tr>\n",
       "      <th>name</th>\n",
       "      <th></th>\n",
       "      <th></th>\n",
       "    </tr>\n",
       "  </thead>\n",
       "  <tbody>\n",
       "    <tr>\n",
       "      <th>biosphere3</th>\n",
       "      <td>sqlite</td>\n",
       "      <td>background</td>\n",
       "    </tr>\n",
       "    <tr>\n",
       "      <th>ecoinvent_3.6_cutoff</th>\n",
       "      <td>sqlite</td>\n",
       "      <td>background</td>\n",
       "    </tr>\n",
       "    <tr>\n",
       "      <th>db_transport_S12tech_1</th>\n",
       "      <td>sqlite</td>\n",
       "      <td>background</td>\n",
       "    </tr>\n",
       "    <tr>\n",
       "      <th>db_transport_S12tech_2</th>\n",
       "      <td>sqlite</td>\n",
       "      <td>background</td>\n",
       "    </tr>\n",
       "    <tr>\n",
       "      <th>db_transport_S23tech_1</th>\n",
       "      <td>sqlite</td>\n",
       "      <td>background</td>\n",
       "    </tr>\n",
       "    <tr>\n",
       "      <th>db_transport_S23tech_2</th>\n",
       "      <td>sqlite</td>\n",
       "      <td>background</td>\n",
       "    </tr>\n",
       "    <tr>\n",
       "      <th>db_infrastructurestech_1</th>\n",
       "      <td>sqlite</td>\n",
       "      <td>background</td>\n",
       "    </tr>\n",
       "    <tr>\n",
       "      <th>db_infrastructurestech_2</th>\n",
       "      <td>sqlite</td>\n",
       "      <td>background</td>\n",
       "    </tr>\n",
       "    <tr>\n",
       "      <th>db_operationtech_1</th>\n",
       "      <td>sqlite</td>\n",
       "      <td>background</td>\n",
       "    </tr>\n",
       "    <tr>\n",
       "      <th>db_operationtech_2</th>\n",
       "      <td>sqlite</td>\n",
       "      <td>background</td>\n",
       "    </tr>\n",
       "    <tr>\n",
       "      <th>db_S1tech_1</th>\n",
       "      <td>sqlite</td>\n",
       "      <td>background</td>\n",
       "    </tr>\n",
       "    <tr>\n",
       "      <th>db_S1tech_2</th>\n",
       "      <td>sqlite</td>\n",
       "      <td>background</td>\n",
       "    </tr>\n",
       "    <tr>\n",
       "      <th>db_S2tech_1</th>\n",
       "      <td>sqlite</td>\n",
       "      <td>background</td>\n",
       "    </tr>\n",
       "    <tr>\n",
       "      <th>db_S2tech_2</th>\n",
       "      <td>sqlite</td>\n",
       "      <td>background</td>\n",
       "    </tr>\n",
       "    <tr>\n",
       "      <th>db_S3tech_1</th>\n",
       "      <td>sqlite</td>\n",
       "      <td>background</td>\n",
       "    </tr>\n",
       "    <tr>\n",
       "      <th>db_S3tech_2</th>\n",
       "      <td>sqlite</td>\n",
       "      <td>background</td>\n",
       "    </tr>\n",
       "    <tr>\n",
       "      <th>db_S1tech_1_uncert</th>\n",
       "      <td>sqlite</td>\n",
       "      <td>background</td>\n",
       "    </tr>\n",
       "  </tbody>\n",
       "</table>\n",
       "</div>"
      ],
      "text/plain": [
       "                         backend        type\n",
       "name                                        \n",
       "biosphere3                sqlite  background\n",
       "ecoinvent_3.6_cutoff      sqlite  background\n",
       "db_transport_S12tech_1    sqlite  background\n",
       "db_transport_S12tech_2    sqlite  background\n",
       "db_transport_S23tech_1    sqlite  background\n",
       "db_transport_S23tech_2    sqlite  background\n",
       "db_infrastructurestech_1  sqlite  background\n",
       "db_infrastructurestech_2  sqlite  background\n",
       "db_operationtech_1        sqlite  background\n",
       "db_operationtech_2        sqlite  background\n",
       "db_S1tech_1               sqlite  background\n",
       "db_S1tech_2               sqlite  background\n",
       "db_S2tech_1               sqlite  background\n",
       "db_S2tech_2               sqlite  background\n",
       "db_S3tech_1               sqlite  background\n",
       "db_S3tech_2               sqlite  background\n",
       "db_S1tech_1_uncert        sqlite  background"
      ]
     },
     "execution_count": 3,
     "metadata": {},
     "output_type": "execute_result"
    }
   ],
   "source": [
    "import lca_algebraic as alg\n",
    "\n",
    "# list the databases in the project\n",
    "alg.list_databases()"
   ]
  },
  {
   "cell_type": "code",
   "execution_count": 4,
   "id": "d091912a",
   "metadata": {},
   "outputs": [
    {
     "data": {
      "text/html": [
       "<div>\n",
       "<style scoped>\n",
       "    .dataframe tbody tr th:only-of-type {\n",
       "        vertical-align: middle;\n",
       "    }\n",
       "\n",
       "    .dataframe tbody tr th {\n",
       "        vertical-align: top;\n",
       "    }\n",
       "\n",
       "    .dataframe thead th {\n",
       "        text-align: right;\n",
       "    }\n",
       "</style>\n",
       "<table border=\"1\" class=\"dataframe\">\n",
       "  <thead>\n",
       "    <tr style=\"text-align: right;\">\n",
       "      <th></th>\n",
       "      <th>backend</th>\n",
       "      <th>type</th>\n",
       "    </tr>\n",
       "    <tr>\n",
       "      <th>name</th>\n",
       "      <th></th>\n",
       "      <th></th>\n",
       "    </tr>\n",
       "  </thead>\n",
       "  <tbody>\n",
       "    <tr>\n",
       "      <th>biosphere3</th>\n",
       "      <td>sqlite</td>\n",
       "      <td>background</td>\n",
       "    </tr>\n",
       "    <tr>\n",
       "      <th>ecoinvent_3.6_cutoff</th>\n",
       "      <td>sqlite</td>\n",
       "      <td>background</td>\n",
       "    </tr>\n",
       "    <tr>\n",
       "      <th>db_transport_S12tech_1</th>\n",
       "      <td>sqlite</td>\n",
       "      <td>foreground</td>\n",
       "    </tr>\n",
       "    <tr>\n",
       "      <th>db_transport_S12tech_2</th>\n",
       "      <td>sqlite</td>\n",
       "      <td>foreground</td>\n",
       "    </tr>\n",
       "    <tr>\n",
       "      <th>db_transport_S23tech_1</th>\n",
       "      <td>sqlite</td>\n",
       "      <td>foreground</td>\n",
       "    </tr>\n",
       "    <tr>\n",
       "      <th>db_transport_S23tech_2</th>\n",
       "      <td>sqlite</td>\n",
       "      <td>foreground</td>\n",
       "    </tr>\n",
       "    <tr>\n",
       "      <th>db_infrastructurestech_1</th>\n",
       "      <td>sqlite</td>\n",
       "      <td>foreground</td>\n",
       "    </tr>\n",
       "    <tr>\n",
       "      <th>db_infrastructurestech_2</th>\n",
       "      <td>sqlite</td>\n",
       "      <td>foreground</td>\n",
       "    </tr>\n",
       "    <tr>\n",
       "      <th>db_operationtech_1</th>\n",
       "      <td>sqlite</td>\n",
       "      <td>foreground</td>\n",
       "    </tr>\n",
       "    <tr>\n",
       "      <th>db_operationtech_2</th>\n",
       "      <td>sqlite</td>\n",
       "      <td>foreground</td>\n",
       "    </tr>\n",
       "    <tr>\n",
       "      <th>db_S1tech_1</th>\n",
       "      <td>sqlite</td>\n",
       "      <td>foreground</td>\n",
       "    </tr>\n",
       "    <tr>\n",
       "      <th>db_S1tech_2</th>\n",
       "      <td>sqlite</td>\n",
       "      <td>foreground</td>\n",
       "    </tr>\n",
       "    <tr>\n",
       "      <th>db_S2tech_1</th>\n",
       "      <td>sqlite</td>\n",
       "      <td>foreground</td>\n",
       "    </tr>\n",
       "    <tr>\n",
       "      <th>db_S2tech_2</th>\n",
       "      <td>sqlite</td>\n",
       "      <td>foreground</td>\n",
       "    </tr>\n",
       "    <tr>\n",
       "      <th>db_S3tech_1</th>\n",
       "      <td>sqlite</td>\n",
       "      <td>foreground</td>\n",
       "    </tr>\n",
       "    <tr>\n",
       "      <th>db_S3tech_2</th>\n",
       "      <td>sqlite</td>\n",
       "      <td>foreground</td>\n",
       "    </tr>\n",
       "    <tr>\n",
       "      <th>db_S1tech_1_uncert</th>\n",
       "      <td>sqlite</td>\n",
       "      <td>foreground</td>\n",
       "    </tr>\n",
       "  </tbody>\n",
       "</table>\n",
       "</div>"
      ],
      "text/plain": [
       "                         backend        type\n",
       "name                                        \n",
       "biosphere3                sqlite  background\n",
       "ecoinvent_3.6_cutoff      sqlite  background\n",
       "db_transport_S12tech_1    sqlite  foreground\n",
       "db_transport_S12tech_2    sqlite  foreground\n",
       "db_transport_S23tech_1    sqlite  foreground\n",
       "db_transport_S23tech_2    sqlite  foreground\n",
       "db_infrastructurestech_1  sqlite  foreground\n",
       "db_infrastructurestech_2  sqlite  foreground\n",
       "db_operationtech_1        sqlite  foreground\n",
       "db_operationtech_2        sqlite  foreground\n",
       "db_S1tech_1               sqlite  foreground\n",
       "db_S1tech_2               sqlite  foreground\n",
       "db_S2tech_1               sqlite  foreground\n",
       "db_S2tech_2               sqlite  foreground\n",
       "db_S3tech_1               sqlite  foreground\n",
       "db_S3tech_2               sqlite  foreground\n",
       "db_S1tech_1_uncert        sqlite  foreground"
      ]
     },
     "execution_count": 4,
     "metadata": {},
     "output_type": "execute_result"
    }
   ],
   "source": [
    "# TO IMPROVE: GET THE LIST OF FOREGROUND DATABASES FROM THE RECIPE AND PUT THIS INTO A LOOP\n",
    "\n",
    "# set the foreground databases as \"foreground\"\n",
    "alg.setForeground('db_S1tech_1')\n",
    "alg.setForeground('db_S1tech_2')\n",
    "alg.setForeground('db_S2tech_1')\n",
    "alg.setForeground('db_S2tech_2')\n",
    "alg.setForeground('db_S3tech_1')\n",
    "alg.setForeground('db_S3tech_2')\n",
    "alg.setForeground('db_operationtech_1')\n",
    "alg.setForeground('db_operationtech_2')\n",
    "alg.setForeground('db_infrastructurestech_1')\n",
    "alg.setForeground('db_infrastructurestech_2')\n",
    "alg.setForeground('db_transport_S12tech_1')\n",
    "alg.setForeground('db_transport_S12tech_2')\n",
    "alg.setForeground('db_transport_S23tech_1')\n",
    "alg.setForeground('db_transport_S23tech_2')\n",
    "alg.setForeground('db_S1tech_1_uncert')\n",
    "# verify that the database type is correct\n",
    "alg.list_databases()"
   ]
  },
  {
   "cell_type": "markdown",
   "id": "0d61ff42",
   "metadata": {},
   "source": [
    "## Create an exporter / importer to manually enter the uncertainty in an Excel file\n",
    "\n",
    "The foreground databases are exported as Excel files. Each Excel file corresponds to a subsystem. Each sheet corresponds to an activity. The Excel sheets contain the following information: \n",
    "- activity name\n",
    "- amount \n",
    "- unit\n",
    "- type: production, technosphere, biosphere\n",
    "- location\n",
    "- databases\n",
    "- code\n",
    "- uncertainty type: 0,1, 2 etc. (here considered as lognormal)\n",
    "- pedigree: e.g. (2,1,5,1,1)\n",
    "- loc: calculate as the ln of the amount\n",
    "- scale: according to the calculations in other notebook.\n",
    "\n",
    "The columns \"uncertainty type\" and \"pedigree\" are empty and need to be filled in manually. The Excel files are then imported back in the form of BW databases. Each exchange is now associated with uncertainty information. The loc and scale are then calculate in order to get all the informaiton required to perform a MC analysis on the foreground and background databases."
   ]
  },
  {
   "cell_type": "markdown",
   "id": "64dba48b",
   "metadata": {},
   "source": [
    "## Export the databases as an Excel file in which the uncertainty information can be added"
   ]
  },
  {
   "cell_type": "code",
   "execution_count": 5,
   "id": "d2721dc7",
   "metadata": {},
   "outputs": [],
   "source": [
    "def Export2Excel (dbdir, db_name, act_list):\n",
    "\n",
    "    import os\n",
    "    import pandas as pd\n",
    "    import numpy as np\n",
    "    import brightway2 as bw\n",
    "    import lca_algebraic as alg\n",
    "\n",
    "    directory = os.path.join(dbdir, str(db_name + '.xlsx'))\n",
    "    print(directory)\n",
    "\n",
    "    db = bw.Database(db_name)\n",
    "\n",
    "    with pd.ExcelWriter(directory, mode = 'w') as writer:\n",
    "\n",
    "        col_labels = ['name','amount', 'unit', 'location', 'type', 'database', 'identifier', 'uncertainty type', \n",
    "                          'pedigree', 'negative', 'loc', 'scale', 'comment']\n",
    "\n",
    "        for act_name in act_list:\n",
    "\n",
    "            #print(act_name)\n",
    "\n",
    "            df = pd.DataFrame(columns = col_labels)\n",
    "\n",
    "            act = [act for act in db if act['name'] == act_name][0]\n",
    "\n",
    "            for i in range(len(act.exchanges())):\n",
    "\n",
    "                #print('Exchange %s' %i)\n",
    "\n",
    "                exc = list(act.exchanges())[i]\n",
    "\n",
    "                exc_input_name = exc.input\n",
    "                #print('Exchange name: %s' %exc.input)\n",
    "                #print('Exchange uncertainty: %s' %exc.uncertainty)\n",
    "                # here the uncertainty is an empty dictionary but it should have the following shape:\n",
    "                # {'uncertainty type': 2, 'loc': -15.995878018234071, 'scale': 0.07937253933193772}\n",
    "\n",
    "                exc_act = bw.Database(exc['input'][0]).get(exc['input'][1]) \n",
    "\n",
    "                #print(exc_act)        \n",
    "\n",
    "                data_dict = {'name': exc_act['name'],\n",
    "                             'amount': exc['amount'],\n",
    "                             'unit' : exc['unit'],\n",
    "                             'location' : exc_act['location'], # is the exchange location the same as the input or else??\n",
    "                             'type' : exc['type'],\n",
    "                             'database' : exc['input'][0],\n",
    "                             'identifier' : exc['input'][1],\n",
    "                             'uncertainty type' : None, \n",
    "                             'pedigree' : None,\n",
    "                             'negative': None, # negative is set to False as only the waste exchanges are negative and will need to be manually set to True instead\n",
    "                             'loc' : None,\n",
    "                             'scale': None,\n",
    "                             'comment': None\n",
    "                            }\n",
    "                #print(data_dict)\n",
    "                df.loc[i] = data_dict.values()\n",
    "\n",
    "            df.to_excel(writer, sheet_name = act_name) \n",
    "\n",
    "    return    "
   ]
  },
  {
   "cell_type": "code",
   "execution_count": 6,
   "id": "6fd02ef7",
   "metadata": {},
   "outputs": [
    {
     "name": "stdout",
     "output_type": "stream",
     "text": [
      "/home/leabraud/OneDrive/UCD/paper3_LCA/python_code/databases/db_S1tech_1.xlsx\n"
     ]
    }
   ],
   "source": [
    "## Do the same for all the databases => link with the recipe to facilate automation\n",
    "\n",
    "dbdir = '/home/leabraud/OneDrive/UCD/paper3_LCA/python_code/databases'\n",
    "db_name = 'db_S1tech_1'\n",
    "act_list = ['model_db_S1tech_1', 'S1A1Cultivation', 'S1A2Filtration', 'S1A3Dewatering', 'S1A4Shaping', 'S1A5Drying', 'S1A6Packaging'] # get the activity list from the recipe??\n",
    "\n",
    "Export2Excel (dbdir, db_name, act_list)  "
   ]
  },
  {
   "cell_type": "markdown",
   "id": "0269d1b2",
   "metadata": {},
   "source": [
    "## Calculation of GSD/sigma using the pedigree matrix uncertainty factors\n",
    "\n",
    "The uncertainty factors for the five pedigree matrix indictors (see above) are defined below. The values were extracted from Ciroth et al. (2016). The maximum value of 2.8 was attributed to the indicator score \"5\" for \"reliability\", \"completeness\", and \"geographical correlation\".\n",
    "\n",
    "The code for the uncertainty calculatino from the pedigree matrix was forked from: https://github.com/sc-gcoste/pedigree_matrix/blob/main/pedigree_matrix/pm.py. In order to access the functions, the code was downloaded and retrieved as foolow."
   ]
  },
  {
   "cell_type": "code",
   "execution_count": 7,
   "id": "c74679f0",
   "metadata": {},
   "outputs": [],
   "source": [
    "import sys\n",
    "\n",
    "# Set up the directory in which the modules to be loaded are saved\n",
    "mdir = '/home/leabraud/OneDrive/UCD/spiralgorithm/packages/pedigree/pedigree_matrix'\n",
    "\n",
    "if mdir not in sys.path:\n",
    "    sys.path.insert(0,mdir)"
   ]
  },
  {
   "cell_type": "markdown",
   "id": "f73aab39",
   "metadata": {},
   "source": [
    "The \"version_0\" corresponds to the uncertainty factors described in Ciroth et al. (2016). The \"sample size\" was deleted on purpose."
   ]
  },
  {
   "cell_type": "code",
   "execution_count": 8,
   "id": "f9e66bca",
   "metadata": {},
   "outputs": [
    {
     "data": {
      "text/plain": [
       "{'reliability': (1.0, 1.54, 1.61, 1.69, 2.8),\n",
       " 'completeness': (1.0, 1.03, 1.04, 1.08, 2.8),\n",
       " 'temporal correlation': (1.0, 1.03, 1.1, 1.19, 1.29),\n",
       " 'geographical correlation': (1.0, 1.04, 1.08, 1.11, 1.11),\n",
       " 'further technological correlation': (1.0, 1.18, 1.65, 2.08, 2.8)}"
      ]
     },
     "execution_count": 8,
     "metadata": {},
     "output_type": "execute_result"
    }
   ],
   "source": [
    "from data import uncertainty_factors\n",
    "\n",
    "uncertainty_factors['version_0']"
   ]
  },
  {
   "cell_type": "code",
   "execution_count": 9,
   "id": "601ba0b7",
   "metadata": {},
   "outputs": [
    {
     "name": "stdout",
     "output_type": "stream",
     "text": [
      "version: version_0\n",
      "factors: {}\n"
     ]
    }
   ],
   "source": [
    "from pm import PedigreeMatrix\n",
    "\n",
    "# initialisation of the pedigree matrix object, choice of the version_0 of the uncertainty factors\n",
    "pm1 = PedigreeMatrix(version = \"version_0\")\n",
    "\n",
    "# at this stage, the factors dictionary is empty\n",
    "print('version: %s' %pm1.version)\n",
    "print('factors: %s' %pm1.factors)"
   ]
  },
  {
   "cell_type": "markdown",
   "id": "0eec4ed9",
   "metadata": {},
   "source": [
    "The uncertainty factors are can be retrieved from a string or numbers. Here, they were retrieved from numbers. The original function was modified so that the basic uncertainty factor the value of 1 is not automatically assigned."
   ]
  },
  {
   "cell_type": "code",
   "execution_count": 10,
   "id": "3ac3929c",
   "metadata": {},
   "outputs": [
    {
     "data": {
      "text/plain": [
       "[1.54, 1.0, 1.29, 1.0, 1.0]"
      ]
     },
     "execution_count": 10,
     "metadata": {},
     "output_type": "execute_result"
    }
   ],
   "source": [
    "# get the uncertainty factors corresponding to the scores entered\n",
    "pm1.from_numbers(2,1,5,1,1)\n",
    "pm1.get_values()"
   ]
  },
  {
   "cell_type": "markdown",
   "id": "28bd1aca",
   "metadata": {},
   "source": [
    "The uncertainty of each process is defined as the geometric standard deviation (GSD):\n",
    "\n",
    "$$\n",
    "GSD = e^\\sqrt{ln{U_R}^2 + ln{U_C}^2 + ln{U_T}^2 + ln{U_G}^2 + ln{U_F}^2 + ln{U_b}^2}\n",
    "$$\n",
    "\n",
    "with: \n",
    "- $U_R$: uncertainty factor of the \"reliability\" indicator, \n",
    "- $U_C$: uncertainty factor of the \"completeness\" indicator, \n",
    "- $U_T$: uncertainty factor of the \"technological correction\" indicator, \n",
    "- $U_G$: uncertainty factor of the \"geographical correlation\" indicator, \n",
    "- $U_F$: uncertainty factor of the \"further technological correlation\" indicator, \n",
    "- $U_b$: the basic uncertainty factor for processes. "
   ]
  },
  {
   "cell_type": "code",
   "execution_count": 11,
   "id": "d595a0bb",
   "metadata": {},
   "outputs": [
    {
     "name": "stdout",
     "output_type": "stream",
     "text": [
      "uncertainty factors: [1.0, 1.54, 1.0, 1.29, 1.0, 1.0]\n",
      "sigma: 0.5012770835700501\n",
      "GSD: 1.650828170603804\n"
     ]
    },
    {
     "data": {
      "text/plain": [
       "0.5012770835700501"
      ]
     },
     "execution_count": 11,
     "metadata": {},
     "output_type": "execute_result"
    }
   ],
   "source": [
    "## to improve: here the basic uncertainty is set to 1 but in fact, the values changes accoridng to the type of process\n",
    "pm1.calculate(basic_uncertainty = 1.0, as_geometric_sigma = False)"
   ]
  },
  {
   "cell_type": "markdown",
   "id": "e47241a2",
   "metadata": {},
   "source": [
    "### Comments: \n",
    "\n",
    "- In the briwghtway code for the calculation of the standard deviation using the pedigree matrix uncertainty factors, the value of sigma (standard deviation) is divided per two. The AB uses the same functions (see: https://github.com/LCA-ActivityBrowser/activity-browser/blob/master/activity_browser/bwutils/pedigree.py). HOwever, it has been argued whether the value should be divided per two or not (see: https://github.com/brightway-lca/pedigree_matrix/issues/2).\n",
    "- G. Coste who argued about the division per two removed it in his work (see: https://github.com/sc-gcoste/pedigree_matrix/blob/main/pedigree_matrix/pm.py).\n",
    "- In the AB, the basic uncertainty factor is set to 1 while the values should vary according to the type of processes (see: https://github.com/LCA-ActivityBrowser/activity-browser/issues/493).\n",
    "\n",
    "\n",
    "### Other links: \n",
    "- https://chris.mutel.org/ecoinvent-lognormal.html\n",
    "- https://chris.mutel.org/images/Pedigree-matrix-poster-LCA-orlando.pdf\n",
    "- https://stackoverflow.com/questions/43033781/create-a-new-activity-in-brightway2-based-on-an-existing-ecoinvent-activity\n",
    "- https://stats-arrays.readthedocs.io/en/latest/distributions/lognormal.html \n",
    "- https://www.diva-portal.org/smash/get/diva2:1385507/FULLTEXT01.pdf\n",
    "- https://github.com/massimopizzol/B4B/blob/main/04.1_Simple_MC.py\n",
    "- https://en.wikipedia.org/wiki/Geometric_standard_deviation"
   ]
  },
  {
   "cell_type": "code",
   "execution_count": 12,
   "id": "fa77a040",
   "metadata": {},
   "outputs": [],
   "source": [
    "def CalculateGSD (pg_num, as_geometric_sigma):\n",
    "    \n",
    "    \n",
    "    from data import uncertainty_factors\n",
    "    from pm import PedigreeMatrix\n",
    "\n",
    "    \n",
    "    # have a look at the uncertainty factors used\n",
    "    #print('\\nUncertainty factors used (see Ciroth et al. (2016)):')\n",
    "    uncertainty_factors['version_0']\n",
    "    \n",
    "    # initialisation of the pedigree matrix object, choice of the version_0 of the uncertainty factors\n",
    "    pm1 = PedigreeMatrix(version = \"version_0\")\n",
    "\n",
    "    # at this stage, the factors dictionary is empty\n",
    "    #print('version: %s' %pm1.version)\n",
    "    #print('factors: %s' %pm1.factors)\n",
    "    \n",
    "    pm1.from_numbers(pg_num[0], pg_num[1], pg_num[2], pg_num[3], pg_num[4])\n",
    "    pm1.get_values()\n",
    "    \n",
    "    # uncert corresponds to either sigma or GSD\n",
    "    uncert = pm1.calculate(basic_uncertainty = 1.0, as_geometric_sigma = False)\n",
    "    \n",
    "    return uncert"
   ]
  },
  {
   "cell_type": "markdown",
   "id": "7fa46180",
   "metadata": {},
   "source": [
    "## Import the Excel file and add the uncertainty info to the exchanges\n",
    "\n",
    "Sources: \n",
    "- https://github.com/PoutineAndRosti/Brightway-Seminar-2017/blob/master/Day%201%20PM/Brightway%20and%20uncertainty.ipynb\n",
    "- https://stackoverflow.com/questions/38733371/brightway2-modifying-deleting-exchanges-from-activity-without-using-activity-as\n",
    "- https://github.com/brightway-lca/brightway2/blob/master/notebooks/Databases.ipynb\n",
    "- https://docs.brightway.dev/en/latest/api/bw2io/importers/excel/index.html"
   ]
  },
  {
   "cell_type": "code",
   "execution_count": 13,
   "id": "2edec1c0",
   "metadata": {},
   "outputs": [
    {
     "name": "stdout",
     "output_type": "stream",
     "text": [
      "['/home/leabraud/OneDrive/UCD/spiralgorithm/packages/stats_arrays/stats_arrays', '/home/leabraud/OneDrive/UCD/spiralgorithm/packages/pedigree/pedigree_matrix', '/home/leabraud/OneDrive/UCD/spiralgorithm/lca_calc', '/home/leabraud/OneDrive/UCD/paper3_LCA/python_code', '/home/leabraud/miniconda3/envs/bw2/lib/python311.zip', '/home/leabraud/miniconda3/envs/bw2/lib/python3.11', '/home/leabraud/miniconda3/envs/bw2/lib/python3.11/lib-dynload', '', '/home/leabraud/miniconda3/envs/bw2/lib/python3.11/site-packages']\n"
     ]
    }
   ],
   "source": [
    "import sys\n",
    "\n",
    "# Set up the directory in which the modules to be loaded are saved\n",
    "mdir = '/home/leabraud/OneDrive/UCD/spiralgorithm/packages/stats_arrays/stats_arrays'\n",
    "\n",
    "if mdir not in sys.path:\n",
    "    sys.path.insert(0,mdir)\n",
    "print(sys.path)"
   ]
  },
  {
   "cell_type": "code",
   "execution_count": null,
   "id": "6931f17e",
   "metadata": {},
   "outputs": [],
   "source": [
    "from stats_arrays.uncertainty_choices import UncertaintyChoices"
   ]
  },
  {
   "cell_type": "code",
   "execution_count": 28,
   "id": "72ae7520",
   "metadata": {},
   "outputs": [
    {
     "name": "stderr",
     "output_type": "stream",
     "text": [
      "Writing activities to SQLite3 database:\n"
     ]
    },
    {
     "name": "stdout",
     "output_type": "stream",
     "text": [
      "The database already exists, deleting it.\n"
     ]
    },
    {
     "name": "stderr",
     "output_type": "stream",
     "text": [
      "0% [#######] 100% | ETA: 00:00:00\n",
      "Total time elapsed: 00:00:00\n"
     ]
    },
    {
     "name": "stdout",
     "output_type": "stream",
     "text": [
      "Title: Writing activities to SQLite3 database:\n",
      "  Started: 08/08/2023 09:47:57\n",
      "  Finished: 08/08/2023 09:47:57\n",
      "  Total time elapsed: 00:00:00\n",
      "  CPU %: 0.00\n",
      "  Memory %: 3.42\n",
      "Brightway2 SQLiteBackend: db_S1tech_1_uncert\n",
      "\n",
      "Activity name: S1A1Cultivation\n",
      "\n",
      "Exchange: 1 unit 'S1A1Cultivation' (unit, GLO, None) to 'S1A1Cultivation' (unit, GLO, None)>\n",
      "\n",
      "False\n",
      "<class 'numpy.bool_'>\n",
      "uncertainty factors: [1.0, 1.54, 1.0, 1.1, 1.11, 2.8]\n",
      "sigma: 1.125400925245556\n",
      "GSD: 3.081452033206286\n",
      "\n",
      "Information added: \n",
      "- uncertainty type: 2 \n",
      "- loc: 0.0 \n",
      "- scale: 1.125400925245556\n",
      "\n",
      "Exchange: 4.20813872255275 kilogram 'market for sodium bicarbonate' (kilogram, GLO, None) to 'S1A1Cultivation' (unit, GLO, None)>\n",
      "\n",
      "False\n",
      "<class 'numpy.bool_'>\n",
      "uncertainty factors: [1.0, 1.0, 1.03, 1.0, 1.0, 1.18]\n",
      "sigma: 0.16813313812125538\n",
      "GSD: 1.1830941150904069\n",
      "\n",
      "Information added: \n",
      "- uncertainty type: 2 \n",
      "- loc: 1.437020441278139 \n",
      "- scale: 0.16813313812125538\n",
      "\n",
      "Exchange: 0.7265338102771647 kilogram 'market for potassium nitrate' (kilogram, GLO, None) to 'S1A1Cultivation' (unit, GLO, None)>\n",
      "\n",
      "False\n",
      "<class 'numpy.bool_'>\n",
      "uncertainty factors: [1.0, 2.8, 1.03, 1.19, 1.0, 1.0]\n",
      "sigma: 1.0446289389470327\n",
      "GSD: 2.842343644925886\n",
      "\n",
      "Information added: \n",
      "- uncertainty type: 2 \n",
      "- loc: -0.3194702584763446 \n",
      "- scale: 1.0446289389470327\n",
      "\n",
      "Exchange: 0.02530994415880326 kilogram 'market for phosphate fertiliser, as P2O5' (kilogram, GLO, None) to 'S1A1Cultivation' (unit, GLO, None)>\n",
      "\n",
      "False\n",
      "<class 'numpy.bool_'>\n",
      "uncertainty factors: [1.0, 1.54, 1.0, 1.1, 1.11, 2.8]\n",
      "sigma: 1.125400925245556\n",
      "GSD: 3.081452033206286\n",
      "\n",
      "Information added: \n",
      "- uncertainty type: 2 \n",
      "- loc: -3.6765579107174133 \n",
      "- scale: 1.125400925245556\n",
      "\n",
      "Exchange: 0.033665109780422 kilogram 'market for potassium sulfate, as K2O' (kilogram, GLO, None) to 'S1A1Cultivation' (unit, GLO, None)>\n",
      "\n",
      "False\n",
      "<class 'numpy.bool_'>\n",
      "uncertainty factors: [1.0, 1.0, 1.03, 1.0, 1.0, 1.18]\n",
      "sigma: 0.16813313812125538\n",
      "GSD: 1.1830941150904069\n",
      "\n",
      "Information added: \n",
      "- uncertainty type: 2 \n",
      "- loc: -3.3912932960241617 \n",
      "- scale: 0.16813313812125538\n",
      "\n",
      "Exchange: 0.016832554890211 kilogram 'market for magnesium sulfate' (kilogram, GLO, None) to 'S1A1Cultivation' (unit, GLO, None)>\n",
      "\n",
      "False\n",
      "<class 'numpy.bool_'>\n",
      "uncertainty factors: [1.0, 2.8, 1.03, 1.19, 1.0, 1.0]\n",
      "sigma: 1.0446289389470327\n",
      "GSD: 2.842343644925886\n",
      "\n",
      "Information added: \n",
      "- uncertainty type: 2 \n",
      "- loc: -4.084440476584107 \n",
      "- scale: 1.0446289389470327\n",
      "\n",
      "Exchange: 0.013776963715873334 kilogram 'market for EDTA, ethylenediaminetetraacetic acid' (kilogram, GLO, None) to 'S1A1Cultivation' (unit, GLO, None)>\n",
      "\n",
      "False\n",
      "<class 'numpy.bool_'>\n",
      "uncertainty factors: [1.0, 1.54, 1.0, 1.1, 1.11, 2.8]\n",
      "sigma: 1.125400925245556\n",
      "GSD: 3.081452033206286\n",
      "\n",
      "Information added: \n",
      "- uncertainty type: 2 \n",
      "- loc: -4.284757377597141 \n",
      "- scale: 1.125400925245556\n",
      "\n",
      "Exchange: 2.1593629640829377 kilowatt hour 'market for electricity, medium voltage' (kilowatt hour, IT, None) to 'S1A1Cultivation' (unit, GLO, None)>\n",
      "\n",
      "False\n",
      "<class 'numpy.bool_'>\n",
      "uncertainty factors: [1.0, 1.54, 1.0, 1.1, 1.11, 2.8]\n",
      "sigma: 1.125400925245556\n",
      "GSD: 3.081452033206286\n",
      "\n",
      "Information added: \n",
      "- uncertainty type: 2 \n",
      "- loc: 0.7698132541617505 \n",
      "- scale: 1.125400925245556\n",
      "\n",
      "Exchange: 1045.9501744034606 kilogram 'tap water production, underground water without treatment' (kilogram, Europe without Switzerland, None) to 'S1A1Cultivation' (unit, GLO, None)>\n",
      "\n",
      "False\n",
      "<class 'numpy.bool_'>\n",
      "uncertainty factors: [1.0, 1.0, 1.03, 1.0, 1.0, 1.65]\n",
      "sigma: 0.5016468994958417\n",
      "GSD: 1.6514387860527384\n",
      "\n",
      "Information added: \n",
      "- uncertainty type: 2 \n",
      "- loc: 6.952681009076795 \n",
      "- scale: 0.5016468994958417\n",
      "\n",
      "Exchange: -0.013144402735922728 kilogram 'market for waste plastic, mixture' (kilogram, IT, None) to 'S1A1Cultivation' (unit, GLO, None)>\n",
      "\n",
      "True\n",
      "<class 'numpy.bool_'>\n",
      "uncertainty factors: [1.0, 2.8, 1.03, 1.19, 1.0, 1.18]\n",
      "sigma: 1.05765998762842\n",
      "GSD: 2.879624741673863\n",
      "\n",
      "Information added: \n",
      "- uncertainty type: 2 \n",
      "- loc: -4.331759258430305 \n",
      "- scale: 1.05765998762842\n",
      "\n",
      "Activity name: S1A2Filtration\n",
      "\n",
      "Exchange: 1 unit 'S1A2Filtration' (unit, GLO, None) to 'S1A2Filtration' (unit, GLO, None)>\n",
      "\n",
      "False\n",
      "<class 'numpy.bool_'>\n",
      "uncertainty factors: [1.0, 1.54, 1.0, 1.1, 1.11, 2.8]\n",
      "sigma: 1.125400925245556\n",
      "GSD: 3.081452033206286\n",
      "\n",
      "Information added: \n",
      "- uncertainty type: 2 \n",
      "- loc: 0.0 \n",
      "- scale: 1.125400925245556\n",
      "\n",
      "Exchange: 1.293810108301621 kilowatt hour 'market for electricity, medium voltage' (kilowatt hour, IT, None) to 'S1A2Filtration' (unit, GLO, None)>\n",
      "\n",
      "False\n",
      "<class 'numpy.bool_'>\n",
      "uncertainty factors: [1.0, 1.0, 1.03, 1.0, 1.0, 1.18]\n",
      "sigma: 0.16813313812125538\n",
      "GSD: 1.1830941150904069\n",
      "\n",
      "Information added: \n",
      "- uncertainty type: 2 \n",
      "- loc: 0.25759143747527746 \n",
      "- scale: 0.16813313812125538\n",
      "\n",
      "Exchange: 19.933991608458737 kilogram 'tap water production, underground water without treatment' (kilogram, Europe without Switzerland, None) to 'S1A2Filtration' (unit, GLO, None)>\n",
      "\n",
      "False\n",
      "<class 'numpy.bool_'>\n",
      "uncertainty factors: [1.0, 2.8, 1.03, 1.19, 1.0, 1.0]\n",
      "sigma: 1.0446289389470327\n",
      "GSD: 2.842343644925886\n",
      "\n",
      "Information added: \n",
      "- uncertainty type: 2 \n",
      "- loc: 2.992426395578924 \n",
      "- scale: 1.0446289389470327\n",
      "\n",
      "Activity name: S1A3Dewatering\n",
      "\n",
      "Exchange: 1 unit 'S1A3Dewatering' (unit, GLO, None) to 'S1A3Dewatering' (unit, GLO, None)>\n",
      "\n",
      "False\n",
      "<class 'numpy.bool_'>\n",
      "uncertainty factors: [1.0, 1.54, 1.0, 1.1, 1.11, 2.8]\n",
      "sigma: 1.125400925245556\n",
      "GSD: 3.081452033206286\n",
      "\n",
      "Information added: \n",
      "- uncertainty type: 2 \n",
      "- loc: 0.0 \n",
      "- scale: 1.125400925245556\n",
      "\n",
      "Exchange: 0.0769744570829292 kilowatt hour 'market for electricity, medium voltage' (kilowatt hour, IT, None) to 'S1A3Dewatering' (unit, GLO, None)>\n",
      "\n",
      "False\n",
      "<class 'numpy.bool_'>\n",
      "uncertainty factors: [1.0, 1.0, 1.03, 1.0, 1.0, 1.18]\n",
      "sigma: 0.16813313812125538\n",
      "GSD: 1.1830941150904069\n",
      "\n",
      "Information added: \n",
      "- uncertainty type: 2 \n",
      "- loc: -2.564281638357483 \n",
      "- scale: 0.16813313812125538\n",
      "\n",
      "Exchange: 38.37403081046029 kilogram 'tap water production, underground water without treatment' (kilogram, Europe without Switzerland, None) to 'S1A3Dewatering' (unit, GLO, None)>\n",
      "\n",
      "False\n",
      "<class 'numpy.bool_'>\n",
      "uncertainty factors: [1.0, 2.8, 1.03, 1.19, 1.0, 1.0]\n",
      "sigma: 1.0446289389470327\n",
      "GSD: 2.842343644925886\n",
      "\n",
      "Information added: \n",
      "- uncertainty type: 2 \n",
      "- loc: 3.6473809498349516 \n",
      "- scale: 1.0446289389470327\n",
      "\n",
      "Exchange: -0.04470857583746135 cubic meter 'treatment of wastewater, average, capacity 1E9l/year' (cubic meter, Europe without Switzerland, None) to 'S1A3Dewatering' (unit, GLO, None)>\n",
      "\n",
      "True\n",
      "<class 'numpy.bool_'>\n",
      "uncertainty factors: [1.0, 1.54, 1.0, 1.1, 1.11, 2.8]\n",
      "sigma: 1.125400925245556\n",
      "GSD: 3.081452033206286\n",
      "\n",
      "Information added: \n",
      "- uncertainty type: 2 \n",
      "- loc: -3.1075899425770284 \n",
      "- scale: 1.125400925245556\n",
      "\n",
      "Activity name: S1A4Shaping\n",
      "\n",
      "Exchange: 1 unit 'S1A4Shaping' (unit, GLO, None) to 'S1A4Shaping' (unit, GLO, None)>\n",
      "\n",
      "False\n",
      "<class 'numpy.bool_'>\n",
      "uncertainty factors: [1.0, 1.54, 1.0, 1.1, 1.11, 2.8]\n",
      "sigma: 1.125400925245556\n",
      "GSD: 3.081452033206286\n",
      "\n",
      "Information added: \n",
      "- uncertainty type: 2 \n",
      "- loc: 0.0 \n",
      "- scale: 1.125400925245556\n",
      "\n",
      "Exchange: 0.006338906912902422 kilowatt hour 'market for electricity, medium voltage' (kilowatt hour, IT, None) to 'S1A4Shaping' (unit, GLO, None)>\n",
      "\n",
      "False\n",
      "<class 'numpy.bool_'>\n",
      "uncertainty factors: [1.0, 1.0, 1.03, 1.0, 1.0, 1.18]\n",
      "sigma: 0.16813313812125538\n",
      "GSD: 1.1830941150904069\n",
      "\n",
      "Information added: \n",
      "- uncertainty type: 2 \n",
      "- loc: -5.061048936611654 \n",
      "- scale: 0.16813313812125538\n",
      "\n",
      "Exchange: 2.427002745195908 kilogram 'tap water production, underground water without treatment' (kilogram, Europe without Switzerland, None) to 'S1A4Shaping' (unit, GLO, None)>\n",
      "\n",
      "False\n",
      "<class 'numpy.bool_'>\n",
      "uncertainty factors: [1.0, 2.8, 1.03, 1.19, 1.0, 1.0]\n",
      "sigma: 1.0446289389470327\n",
      "GSD: 2.842343644925886\n",
      "\n",
      "Information added: \n",
      "- uncertainty type: 2 \n",
      "- loc: 0.8866570578505029 \n",
      "- scale: 1.0446289389470327\n",
      "\n",
      "Exchange: -0.002427002745195908 cubic meter 'treatment of wastewater, average, capacity 1E9l/year' (cubic meter, Europe without Switzerland, None) to 'S1A4Shaping' (unit, GLO, None)>\n",
      "\n",
      "True\n",
      "<class 'numpy.bool_'>\n",
      "uncertainty factors: [1.0, 1.54, 1.0, 1.1, 1.11, 2.8]\n",
      "sigma: 1.125400925245556\n",
      "GSD: 3.081452033206286\n",
      "\n",
      "Information added: \n",
      "- uncertainty type: 2 \n",
      "- loc: -6.021098221131634 \n",
      "- scale: 1.125400925245556\n",
      "\n",
      "Activity name: S1A5Drying\n",
      "\n",
      "Exchange: 1 unit 'S1A5Drying' (unit, GLO, None) to 'S1A5Drying' (unit, GLO, None)>\n",
      "\n",
      "False\n",
      "<class 'numpy.bool_'>\n",
      "uncertainty factors: [1.0, 1.54, 1.0, 1.1, 1.11, 2.8]\n",
      "sigma: 1.125400925245556\n",
      "GSD: 3.081452033206286\n",
      "\n",
      "Information added: \n",
      "- uncertainty type: 2 \n",
      "- loc: 0.0 \n",
      "- scale: 1.125400925245556\n",
      "\n",
      "Exchange: 11.342600105148918 kilowatt hour 'market for electricity, medium voltage' (kilowatt hour, IT, None) to 'S1A5Drying' (unit, GLO, None)>\n",
      "\n",
      "False\n",
      "<class 'numpy.bool_'>\n",
      "uncertainty factors: [1.0, 1.0, 1.03, 1.0, 1.0, 1.18]\n",
      "sigma: 0.16813313812125538\n",
      "GSD: 1.1830941150904069\n",
      "\n",
      "Information added: \n",
      "- uncertainty type: 2 \n",
      "- loc: 2.428565558185885 \n",
      "- scale: 0.16813313812125538\n",
      "\n",
      "Activity name: S1A6Packaging\n"
     ]
    },
    {
     "name": "stdout",
     "output_type": "stream",
     "text": [
      "\n",
      "Exchange: 1 unit 'S1A6Packaging' (unit, GLO, None) to 'S1A6Packaging' (unit, GLO, None)>\n",
      "\n",
      "False\n",
      "<class 'numpy.bool_'>\n",
      "uncertainty factors: [1.0, 1.54, 1.0, 1.1, 1.11, 2.8]\n",
      "sigma: 1.125400925245556\n",
      "GSD: 3.081452033206286\n",
      "\n",
      "Information added: \n",
      "- uncertainty type: 2 \n",
      "- loc: 0.0 \n",
      "- scale: 1.125400925245556\n",
      "\n",
      "Exchange: 0.012289872719460495 kilogram 'market for polyethylene terephthalate, granulate, amorphous' (kilogram, GLO, None) to 'S1A6Packaging' (unit, GLO, None)>\n",
      "\n",
      "False\n",
      "<class 'numpy.bool_'>\n",
      "uncertainty factors: [1.0, 1.0, 1.03, 1.0, 1.0, 1.18]\n",
      "sigma: 0.16813313812125538\n",
      "GSD: 1.1830941150904069\n",
      "\n",
      "Information added: \n",
      "- uncertainty type: 2 \n",
      "- loc: -4.398979711889027 \n",
      "- scale: 0.16813313812125538\n"
     ]
    }
   ],
   "source": [
    "# update the uncertainty data for each exchange using the data entered in the Excel file\n",
    "# do it for all the databases, not only S1\n",
    "\n",
    "db_name = 'db_S1tech_1'\n",
    "act_list = ['S1A1Cultivation', 'S1A2Filtration', 'S1A3Dewatering', 'S1A4Shaping', 'S1A5Drying', 'S1A6Packaging'] # get the activity list from the recipe??\n",
    "xlsx_dir = '/home/leabraud/OneDrive/UCD/paper3_LCA/python_code/databases/db_S1tech_1_uncert.xlsx'\n",
    "basic_uncertainty = 1.0\n",
    "as_geometric_sigma = True\n",
    "\n",
    "import stats_arrays\n",
    "import pandas as pd\n",
    "import brightway2 as bw\n",
    "import lca_algebraic as alg\n",
    "from stats_arrays.uncertainty_choices import UncertaintyChoices\n",
    "import numpy as np\n",
    "\n",
    "db = bw.Database(db_name)\n",
    "\n",
    "if str(db_name + '_uncert') in bw.databases: \n",
    "    print('The database already exists, deleting it.')\n",
    "    del bw.databases[str(db_name + '_uncert')]\n",
    "\n",
    "db_uncert = db.copy(str(db_name + '_uncert'))\n",
    "print(db_uncert)\n",
    "\n",
    "for act_name in act_list: \n",
    "    \n",
    "    print('\\nActivity name: %s' %act_name)\n",
    "    \n",
    "    # open the Excel file sheet per sheet i.e. for each activity\n",
    "    df = pd.read_excel(xlsx_dir, sheet_name = act_name)\n",
    "    \n",
    "    # get the activity in the copied database (i.e. the db in which the uncertainty info will be added)\n",
    "    get_act = [act for act in db_uncert if act['name'] == act_name][0]\n",
    "    \n",
    "    # for each row (i.e. for each exchange in the activity)\n",
    "    for i in range(df.shape[0]):\n",
    "        \n",
    "        # get the identifier of the exchange from the Excel file\n",
    "        exc_id = df.loc[i]['identifier']\n",
    "        \n",
    "        # get the exchange\n",
    "        get_exc = [exc for exc in get_act.exchanges() if exc_id in exc.input.key][0]\n",
    "        print('\\n%s\\n'%get_exc)\n",
    "        \n",
    "        # add the uncertainty values\n",
    "        #if df.loc[i]['uncertainty type'] == '2':\n",
    "        # for now, allocate lognormal distribution to all exchanges\n",
    "        get_exc['uncertainty type'] = stats_arrays.distributions.lognormal.LognormalUncertainty.id\n",
    "        \n",
    "        # negative parameter\n",
    "        print(df.loc[i]['negative'])\n",
    "        print(type(df.loc[i]['negative']))\n",
    "        #if df.loc[i]['negative'] == 'False':\n",
    "        #    get_exc['negative'] = False\n",
    "        #else: \n",
    "        #    get_exc['negative'] = True\n",
    "        \n",
    "        #get_exc['pedigree'] = {}\n",
    "        \n",
    "        pg_str = df.loc[i]['pedigree']\n",
    "        pg_num = [int(i) for i in pg_str.split(',')]\n",
    "        #get_exc['pedigree']['reliability'] = pg_num[0]\n",
    "        #get_exc['pedigree']['completeness'] = pg_num[1]\n",
    "        #get_exc['pedigree']['temporal correlation'] = pg_num[2]\n",
    "        #get_exc['pedigree']['geographical correlation'] = pg_num[3]\n",
    "        #get_exc['pedigree']['further technological correlation'] = pg_num[4]\n",
    "\n",
    "        # loc corresponds to the ln of the amount\n",
    "        # how is the negative log calculated??\n",
    "        get_exc['loc'] = np.log(abs(get_exc['amount']))\n",
    "        \n",
    "        # the scale is calculated with the pedigree matrix uncertainty factors\n",
    "        get_exc['scale'] = CalculateGSD (pg_num, as_geometric_sigma)\n",
    "        \n",
    "        \n",
    "        get_exc['negative'] = df.loc[i]['negative']\n",
    "        \n",
    "        # need the basic uncertainty, for now consider = 1 but should change that\n",
    "        \n",
    "        \n",
    "        # check that the modification occured\n",
    "        print('\\nInformation added: \\n- uncertainty type: %s \\n- loc: %s \\n- scale: %s' %(get_exc['uncertainty type'], get_exc['loc'], get_exc['scale']))\n",
    "        #print('\\nInformation added: \\n- uncertainty type: %s\\n- pedigree: \\n1) reliability: %s, \\n2) completeness: %s, \\n3) temporal corr.: %s, \\n4) geographical corr.: %s, \\n5) further technological corr.: %s.\\n- loc: %s \\n- scale: %s'\n",
    "             #%(get_exc['uncertainty type'],\n",
    "               #get_exc['pedigree']['reliability'],\n",
    "               #get_exc['pedigree']['completeness'],\n",
    "               #get_exc['pedigree']['temporal correlation'],\n",
    "               #get_exc['pedigree']['geographical correlation'], \n",
    "               #get_exc['pedigree']['further technological correlation'], \n",
    "              # get_exc['loc'], \n",
    "              # get_exc['scale']))\n",
    "        \n",
    "        # save the exchange\n",
    "        get_exc.save()"
   ]
  },
  {
   "cell_type": "code",
   "execution_count": 29,
   "id": "3b8c288b",
   "metadata": {},
   "outputs": [
    {
     "name": "stdout",
     "output_type": "stream",
     "text": [
      "Activity: 'S1A1Cultivation' (unit, GLO, None)\n"
     ]
    },
    {
     "data": {
      "text/plain": [
       "{'uncertainty type': 2,\n",
       " 'loc': -4.331759258430305,\n",
       " 'scale': 1.05765998762842,\n",
       " 'negative': True}"
      ]
     },
     "execution_count": 29,
     "metadata": {},
     "output_type": "execute_result"
    }
   ],
   "source": [
    "# check on of the activities in the new database\n",
    "new_act = [act for act in bw.Database('db_S1tech_1_uncert') if act['name'] == 'S1A1Cultivation'][0]\n",
    "print('Activity: %s' %new_act)\n",
    "\n",
    "# the waste exchanges raise issues because the amount of negative. The loc (i.e. ln(amount)) is undefined.\n",
    "# the problem was fixed by considering the absolute value of the amount (see: https://stackoverflow.com/questions/45935773/negative-lognormal-results-in-monte-carlo-simulation-with-brightway2).\n",
    "# the loc was calculated by ignoring the negative sign <=> absolute value\n",
    "waste_exc = list(new_act.exchanges())[9]\n",
    "waste_exc.as_dict()\n",
    "waste_exc.random_sample(n=10)  \n",
    "waste_exc.uncertainty"
   ]
  },
  {
   "cell_type": "code",
   "execution_count": 30,
   "id": "f64329ee",
   "metadata": {},
   "outputs": [
    {
     "name": "stdout",
     "output_type": "stream",
     "text": [
      "Activity: 'S1A1Cultivation' (unit, GLO, None)\n",
      "\n",
      "'S1A1Cultivation' (unit, GLO, None)\n",
      "{'uncertainty type': 2, 'loc': 0.0, 'scale': 1.125400925245556, 'negative': False}\n",
      "\n",
      "'market for sodium bicarbonate' (kilogram, GLO, None)\n",
      "{'uncertainty type': 2, 'loc': 1.437020441278139, 'scale': 0.16813313812125538, 'negative': False}\n",
      "\n",
      "'market for potassium nitrate' (kilogram, GLO, None)\n",
      "{'uncertainty type': 2, 'loc': -0.3194702584763446, 'scale': 1.0446289389470327, 'negative': False}\n",
      "\n",
      "'market for phosphate fertiliser, as P2O5' (kilogram, GLO, None)\n",
      "{'uncertainty type': 2, 'loc': -3.6765579107174133, 'scale': 1.125400925245556, 'negative': False}\n",
      "\n",
      "'market for potassium sulfate, as K2O' (kilogram, GLO, None)\n",
      "{'uncertainty type': 2, 'loc': -3.3912932960241617, 'scale': 0.16813313812125538, 'negative': False}\n",
      "\n",
      "'market for magnesium sulfate' (kilogram, GLO, None)\n",
      "{'uncertainty type': 2, 'loc': -4.084440476584107, 'scale': 1.0446289389470327, 'negative': False}\n",
      "\n",
      "'market for EDTA, ethylenediaminetetraacetic acid' (kilogram, GLO, None)\n",
      "{'uncertainty type': 2, 'loc': -4.284757377597141, 'scale': 1.125400925245556, 'negative': False}\n",
      "\n",
      "'market for electricity, medium voltage' (kilowatt hour, IT, None)\n",
      "{'uncertainty type': 2, 'loc': 0.7698132541617505, 'scale': 1.125400925245556, 'negative': False}\n",
      "\n",
      "'tap water production, underground water without treatment' (kilogram, Europe without Switzerland, None)\n",
      "{'uncertainty type': 2, 'loc': 6.952681009076795, 'scale': 0.5016468994958417, 'negative': False}\n",
      "\n",
      "'market for waste plastic, mixture' (kilogram, IT, None)\n",
      "{'uncertainty type': 2, 'loc': -4.331759258430305, 'scale': 1.05765998762842, 'negative': True}\n"
     ]
    }
   ],
   "source": [
    "# check the new database and activities\n",
    "\n",
    "new_act = [act for act in bw.Database('db_S1tech_1_uncert') if act['name'] == 'S1A1Cultivation'][0]\n",
    "print('Activity: %s' %new_act)\n",
    "\n",
    "for exc in new_act.exchanges():\n",
    "    print('\\n%s' %exc.input)\n",
    "    print(exc.uncertainty)"
   ]
  },
  {
   "cell_type": "markdown",
   "id": "d83a8998",
   "metadata": {},
   "source": [
    "## Test that the uncertainty data were added by performing a MC analysis\n",
    "\n",
    "MC analysis on S1 only."
   ]
  },
  {
   "cell_type": "markdown",
   "id": "35f89525",
   "metadata": {},
   "source": [
    "The database needs to be processed into a parameter array."
   ]
  },
  {
   "cell_type": "code",
   "execution_count": 36,
   "id": "eaf25f2e",
   "metadata": {},
   "outputs": [
    {
     "name": "stdout",
     "output_type": "stream",
     "text": [
      "'model_db_S1tech_1' (unit, GLO, None)\n",
      "\n",
      "LCIA method: ('IPCC 2013', 'climate change', 'GWP 100a')\n",
      "\n",
      "LCA score: 14.172062869536274\n",
      "\n",
      ">> MONTE CARLO ANALYSIS\n"
     ]
    },
    {
     "data": {
      "application/vnd.jupyter.widget-view+json": {
       "model_id": "89cc66d0253444db845ab9eecb26747a",
       "version_major": 2,
       "version_minor": 0
      },
      "text/plain": [
       "  0%|          | 0/1000 [00:00<?, ?it/s]"
      ]
     },
     "metadata": {},
     "output_type": "display_data"
    },
    {
     "name": "stdout",
     "output_type": "stream",
     "text": [
      "MC median: 22.996121905988282\n"
     ]
    },
    {
     "data": {
      "text/plain": [
       "Text(0.5, 0, 'lca.score')"
      ]
     },
     "execution_count": 36,
     "metadata": {},
     "output_type": "execute_result"
    },
    {
     "data": {
      "image/png": "[encoded data removed]",
      "text/plain": [
       "<Figure size 640x480 with 1 Axes>"
      ]
     },
     "metadata": {},
     "output_type": "display_data"
    }
   ],
   "source": [
    "import matplotlib.pyplot as plt\n",
    "\n",
    "# MC analysis of wind power production in Sweden \n",
    "\n",
    "db_uncert = bw.Database('db_S1tech_1_uncert')\n",
    "\n",
    "# get the activity\n",
    "act_name = 'model_db_S1tech_1'\n",
    "get_act = [act for act in db_uncert if act['name'] == act_name][0]\n",
    "print(get_act)\n",
    "\n",
    "# quick LCA calculation\n",
    "FU = {get_act: 1}\n",
    "method = ('IPCC 2013', 'climate change', 'GWP 100a')\n",
    "print('\\nLCIA method: %s' % str(method))\n",
    "\n",
    "lca = bw.LCA(FU, method)\n",
    "lca.lci()\n",
    "lca.lcia()\n",
    "print('\\nLCA score: %s' %lca.score)\n",
    "\n",
    "# the median is higher than the LCA score\n",
    "# add a progression bar\n",
    "print('\\n>> MONTE CARLO ANALYSIS')\n",
    "mc = bw.MonteCarloLCA(FU, method)  \n",
    "iterations = 1000\n",
    "\n",
    "from tqdm.notebook import tqdm\n",
    "\n",
    "mc_results = []\n",
    "\n",
    "for i in tqdm(range(iterations)):\n",
    "    mc_results.append(next(mc))\n",
    "    \n",
    "print('MC median: %s' %np.median(mc_results))\n",
    "\n",
    "# plot the MC results\n",
    "plt.hist(mc_results, density=True)\n",
    "plt.ylabel(\"Probability\")\n",
    "plt.xlabel('lca.score')"
   ]
  },
  {
   "cell_type": "markdown",
   "id": "8ef32936",
   "metadata": {},
   "source": [
    "When running the lines above, an error occured: *\"InvalidParamsError: Real location (mu) values are required for lognormal uncertainties.\"* The error is linked to the python files \"random.py\" and \"lognormal.py\". \n",
    "\n",
    "Other links:\n",
    "- https://stackoverflow.com/questions/72660400/variation-between-montecarlo-mean-score-and-static-lca-score\n",
    "- https://chris.mutel.org/too-confusing.html\n",
    "\n",
    "According to https://github.com/PoutineAndRosti/Brightway-Seminar-2017/blob/master/Day%201%20PM/Brightway%20and%20uncertainty.ipynb, a stats array needs to be created unsing \"stats_arrays.UncertaintyBase.from_dicts\". "
   ]
  },
  {
   "cell_type": "code",
   "execution_count": null,
   "id": "d807ed37",
   "metadata": {},
   "outputs": [],
   "source": [
    "import matplotlib.pyplot as plt"
   ]
  },
  {
   "cell_type": "code",
   "execution_count": null,
   "id": "060b8294",
   "metadata": {},
   "outputs": [],
   "source": [
    "# according to massimo pizol's notebook on seaweed lca\n",
    "\n",
    "# print name of the database\n",
    "print(db_name)\n",
    "ei = bw.Database('ecoinvent_3.6_cutoff')\n",
    "\n",
    "# try with electricity production activity\n",
    "elec = [act for act in ei if 'market for electricity, medium voltage' in act['name'] and act['location'] == 'SE'][0]\n",
    "print(elec)\n",
    "\n",
    "# get the activity\n",
    "act_name = 'model_db_S1tech_1'\n",
    "get_act = [act for act in db_uncert if act['name'] == act_name][0]\n",
    "print(get_act)\n",
    "\n",
    "# quick LCA calculation\n",
    "FU = {elec: 1}\n",
    "method = ('IPCC 2013', 'climate change', 'GWP 100a')\n",
    "print(method)\n",
    "\n",
    "lca = bw.LCA(FU, method)\n",
    "lca.lci()\n",
    "lca.lcia()\n",
    "print(lca.score)\n",
    "\n",
    "mc = bw.MonteCarloLCA(FU, method)  \n",
    "mc_results = [next(mc) for x in range(50)] \n",
    "print(np.median(mc_results))\n",
    "\n",
    "# plot the MC results\n",
    "plt.hist(mc_results, density=True)\n",
    "plt.ylabel(\"Probability\")\n",
    "\n",
    "plt.xlabel('lca.score')"
   ]
  },
  {
   "cell_type": "code",
   "execution_count": 21,
   "id": "fe7b6fc9",
   "metadata": {},
   "outputs": [
    {
     "name": "stdout",
     "output_type": "stream",
     "text": [
      "Activity: 'electricity production, wind, >3MW turbine, onshore' (kilowatt hour, SE, None)\n",
      "\n",
      "LCIA method: ('IPCC 2013', 'climate change', 'GWP 100a')\n",
      "\n",
      "LCA score: 0.025863641645472238\n",
      "\n",
      ">> MONTE CARLO ANALYSIS\n"
     ]
    },
    {
     "data": {
      "application/vnd.jupyter.widget-view+json": {
       "model_id": "90c8fa36a5424dd1b9400d17dbbd2d63",
       "version_major": 2,
       "version_minor": 0
      },
      "text/plain": [
       "  0%|          | 0/10000 [00:00<?, ?it/s]"
      ]
     },
     "metadata": {},
     "output_type": "display_data"
    },
    {
     "ename": "KeyboardInterrupt",
     "evalue": "",
     "output_type": "error",
     "traceback": [
      "\u001b[0;31m---------------------------------------------------------------------------\u001b[0m",
      "\u001b[0;31mKeyboardInterrupt\u001b[0m                         Traceback (most recent call last)",
      "Cell \u001b[0;32mIn[21], line 32\u001b[0m\n\u001b[1;32m     29\u001b[0m mc_results \u001b[38;5;241m=\u001b[39m []\n\u001b[1;32m     31\u001b[0m \u001b[38;5;28;01mfor\u001b[39;00m i \u001b[38;5;129;01min\u001b[39;00m tqdm(\u001b[38;5;28mrange\u001b[39m(iterations)):\n\u001b[0;32m---> 32\u001b[0m     mc_results\u001b[38;5;241m.\u001b[39mappend(\u001b[38;5;28mnext\u001b[39m(mc))\n\u001b[1;32m     34\u001b[0m \u001b[38;5;28mprint\u001b[39m(\u001b[38;5;124m'\u001b[39m\u001b[38;5;124mMC median: \u001b[39m\u001b[38;5;132;01m%s\u001b[39;00m\u001b[38;5;124m'\u001b[39m \u001b[38;5;241m%\u001b[39mnp\u001b[38;5;241m.\u001b[39mmedian(mc_results))\n\u001b[1;32m     36\u001b[0m \u001b[38;5;66;03m# plot the MC results\u001b[39;00m\n",
      "File \u001b[0;32m~/miniconda3/envs/bw2/lib/python3.11/site-packages/bw2calc/monte_carlo.py:113\u001b[0m, in \u001b[0;36mMonteCarloLCA.__next__\u001b[0;34m(self)\u001b[0m\n\u001b[1;32m    110\u001b[0m \u001b[38;5;28;01mif\u001b[39;00m \u001b[38;5;129;01mnot\u001b[39;00m \u001b[38;5;28mhasattr\u001b[39m(\u001b[38;5;28mself\u001b[39m, \u001b[38;5;124m\"\u001b[39m\u001b[38;5;124mdemand_array\u001b[39m\u001b[38;5;124m\"\u001b[39m):\n\u001b[1;32m    111\u001b[0m     \u001b[38;5;28mself\u001b[39m\u001b[38;5;241m.\u001b[39mbuild_demand_array()\n\u001b[0;32m--> 113\u001b[0m \u001b[38;5;28;43mself\u001b[39;49m\u001b[38;5;241;43m.\u001b[39;49m\u001b[43mlci_calculation\u001b[49m\u001b[43m(\u001b[49m\u001b[43m)\u001b[49m\n\u001b[1;32m    114\u001b[0m \u001b[38;5;28;01mif\u001b[39;00m \u001b[38;5;28mself\u001b[39m\u001b[38;5;241m.\u001b[39mlcia:\n\u001b[1;32m    115\u001b[0m     \u001b[38;5;28mself\u001b[39m\u001b[38;5;241m.\u001b[39mlcia_calculation()\n",
      "File \u001b[0;32m~/miniconda3/envs/bw2/lib/python3.11/site-packages/bw2calc/lca.py:350\u001b[0m, in \u001b[0;36mLCA.lci_calculation\u001b[0;34m(self)\u001b[0m\n\u001b[1;32m    344\u001b[0m \u001b[38;5;28;01mdef\u001b[39;00m \u001b[38;5;21mlci_calculation\u001b[39m(\u001b[38;5;28mself\u001b[39m):\n\u001b[1;32m    345\u001b[0m \u001b[38;5;250m    \u001b[39m\u001b[38;5;124;03m\"\"\"The actual LCI calculation.\u001b[39;00m\n\u001b[1;32m    346\u001b[0m \n\u001b[1;32m    347\u001b[0m \u001b[38;5;124;03m    Separated from ``lci`` to be reusable in cases where the matrices are already built, e.g. ``redo_lci`` and Monte Carlo classes.\u001b[39;00m\n\u001b[1;32m    348\u001b[0m \n\u001b[1;32m    349\u001b[0m \u001b[38;5;124;03m    \"\"\"\u001b[39;00m\n\u001b[0;32m--> 350\u001b[0m     \u001b[38;5;28mself\u001b[39m\u001b[38;5;241m.\u001b[39msupply_array \u001b[38;5;241m=\u001b[39m \u001b[38;5;28;43mself\u001b[39;49m\u001b[38;5;241;43m.\u001b[39;49m\u001b[43msolve_linear_system\u001b[49m\u001b[43m(\u001b[49m\u001b[43m)\u001b[49m\n\u001b[1;32m    351\u001b[0m     \u001b[38;5;66;03m# Turn 1-d array into diagonal matrix\u001b[39;00m\n\u001b[1;32m    352\u001b[0m     count \u001b[38;5;241m=\u001b[39m \u001b[38;5;28mlen\u001b[39m(\u001b[38;5;28mself\u001b[39m\u001b[38;5;241m.\u001b[39mactivity_dict)\n",
      "File \u001b[0;32m~/miniconda3/envs/bw2/lib/python3.11/site-packages/bw2calc/monte_carlo.py:62\u001b[0m, in \u001b[0;36mIterativeMonteCarlo.solve_linear_system\u001b[0;34m(self)\u001b[0m\n\u001b[1;32m     60\u001b[0m     \u001b[38;5;28;01mreturn\u001b[39;00m \u001b[38;5;28mself\u001b[39m\u001b[38;5;241m.\u001b[39mguess\n\u001b[1;32m     61\u001b[0m \u001b[38;5;28;01melse\u001b[39;00m:\n\u001b[0;32m---> 62\u001b[0m     solution, status \u001b[38;5;241m=\u001b[39m \u001b[38;5;28;43mself\u001b[39;49m\u001b[38;5;241;43m.\u001b[39;49m\u001b[43miter_solver\u001b[49m\u001b[43m(\u001b[49m\n\u001b[1;32m     63\u001b[0m \u001b[43m        \u001b[49m\u001b[38;5;28;43mself\u001b[39;49m\u001b[38;5;241;43m.\u001b[39;49m\u001b[43mtechnosphere_matrix\u001b[49m\u001b[43m,\u001b[49m\n\u001b[1;32m     64\u001b[0m \u001b[43m        \u001b[49m\u001b[38;5;28;43mself\u001b[39;49m\u001b[38;5;241;43m.\u001b[39;49m\u001b[43mdemand_array\u001b[49m\u001b[43m,\u001b[49m\n\u001b[1;32m     65\u001b[0m \u001b[43m        \u001b[49m\u001b[43mx0\u001b[49m\u001b[38;5;241;43m=\u001b[39;49m\u001b[38;5;28;43mself\u001b[39;49m\u001b[38;5;241;43m.\u001b[39;49m\u001b[43mguess\u001b[49m\u001b[43m,\u001b[49m\n\u001b[1;32m     66\u001b[0m \u001b[43m        \u001b[49m\u001b[43matol\u001b[49m\u001b[38;5;241;43m=\u001b[39;49m\u001b[38;5;124;43m'\u001b[39;49m\u001b[38;5;124;43mlegacy\u001b[39;49m\u001b[38;5;124;43m'\u001b[39;49m\u001b[43m,\u001b[49m\n\u001b[1;32m     67\u001b[0m \u001b[43m        \u001b[49m\u001b[43mmaxiter\u001b[49m\u001b[38;5;241;43m=\u001b[39;49m\u001b[38;5;241;43m1000\u001b[39;49m\u001b[43m)\u001b[49m\n\u001b[1;32m     68\u001b[0m     \u001b[38;5;28;01mif\u001b[39;00m status \u001b[38;5;241m!=\u001b[39m \u001b[38;5;241m0\u001b[39m:\n\u001b[1;32m     69\u001b[0m         \u001b[38;5;28;01mreturn\u001b[39;00m spsolve(\n\u001b[1;32m     70\u001b[0m             \u001b[38;5;28mself\u001b[39m\u001b[38;5;241m.\u001b[39mtechnosphere_matrix,\n\u001b[1;32m     71\u001b[0m             \u001b[38;5;28mself\u001b[39m\u001b[38;5;241m.\u001b[39mdemand_array\n\u001b[1;32m     72\u001b[0m         )\n",
      "File \u001b[0;32m<decorator-gen-4>:2\u001b[0m, in \u001b[0;36mcgs\u001b[0;34m(A, b, x0, tol, maxiter, M, callback, atol)\u001b[0m\n",
      "File \u001b[0;32m~/miniconda3/envs/bw2/lib/python3.11/site-packages/scipy/_lib/_threadsafety.py:44\u001b[0m, in \u001b[0;36mReentrancyLock.decorate.<locals>.caller\u001b[0;34m(func, *a, **kw)\u001b[0m\n\u001b[1;32m     42\u001b[0m \u001b[38;5;28;01mdef\u001b[39;00m \u001b[38;5;21mcaller\u001b[39m(func, \u001b[38;5;241m*\u001b[39ma, \u001b[38;5;241m*\u001b[39m\u001b[38;5;241m*\u001b[39mkw):\n\u001b[1;32m     43\u001b[0m     \u001b[38;5;28;01mwith\u001b[39;00m \u001b[38;5;28mself\u001b[39m:\n\u001b[0;32m---> 44\u001b[0m         \u001b[38;5;28;01mreturn\u001b[39;00m \u001b[43mfunc\u001b[49m\u001b[43m(\u001b[49m\u001b[38;5;241;43m*\u001b[39;49m\u001b[43ma\u001b[49m\u001b[43m,\u001b[49m\u001b[43m \u001b[49m\u001b[38;5;241;43m*\u001b[39;49m\u001b[38;5;241;43m*\u001b[39;49m\u001b[43mkw\u001b[49m\u001b[43m)\u001b[49m\n",
      "File \u001b[0;32m~/miniconda3/envs/bw2/lib/python3.11/site-packages/scipy/sparse/linalg/_isolve/iterative.py:466\u001b[0m, in \u001b[0;36mcgs\u001b[0;34m(A, b, x0, tol, maxiter, M, callback, atol)\u001b[0m\n\u001b[1;32m    464\u001b[0m     info \u001b[38;5;241m=\u001b[39m \u001b[38;5;241m-\u001b[39m\u001b[38;5;241m1\u001b[39m\n\u001b[1;32m    465\u001b[0m     ftflag \u001b[38;5;241m=\u001b[39m \u001b[38;5;28;01mFalse\u001b[39;00m\n\u001b[0;32m--> 466\u001b[0m resid, info \u001b[38;5;241m=\u001b[39m \u001b[43m_stoptest\u001b[49m\u001b[43m(\u001b[49m\u001b[43mwork\u001b[49m\u001b[43m[\u001b[49m\u001b[43mslice1\u001b[49m\u001b[43m]\u001b[49m\u001b[43m,\u001b[49m\u001b[43m \u001b[49m\u001b[43matol\u001b[49m\u001b[43m)\u001b[49m\n\u001b[1;32m    467\u001b[0m \u001b[38;5;28;01mif\u001b[39;00m info \u001b[38;5;241m==\u001b[39m \u001b[38;5;241m1\u001b[39m \u001b[38;5;129;01mand\u001b[39;00m iter_ \u001b[38;5;241m>\u001b[39m \u001b[38;5;241m1\u001b[39m:\n\u001b[1;32m    468\u001b[0m     \u001b[38;5;66;03m# recompute residual and recheck, to avoid\u001b[39;00m\n\u001b[1;32m    469\u001b[0m     \u001b[38;5;66;03m# accumulating rounding error\u001b[39;00m\n\u001b[1;32m    470\u001b[0m     work[slice1] \u001b[38;5;241m=\u001b[39m b \u001b[38;5;241m-\u001b[39m matvec(x)\n",
      "File \u001b[0;32m~/miniconda3/envs/bw2/lib/python3.11/site-packages/scipy/sparse/linalg/_isolve/iterative.py:71\u001b[0m, in \u001b[0;36m_stoptest\u001b[0;34m(residual, atol)\u001b[0m\n\u001b[1;32m     67\u001b[0m \u001b[38;5;28;01mdef\u001b[39;00m \u001b[38;5;21m_stoptest\u001b[39m(residual, atol):\n\u001b[1;32m     68\u001b[0m \u001b[38;5;250m    \u001b[39m\u001b[38;5;124;03m\"\"\"\u001b[39;00m\n\u001b[1;32m     69\u001b[0m \u001b[38;5;124;03m    Successful termination condition for the solvers.\u001b[39;00m\n\u001b[1;32m     70\u001b[0m \u001b[38;5;124;03m    \"\"\"\u001b[39;00m\n\u001b[0;32m---> 71\u001b[0m     resid \u001b[38;5;241m=\u001b[39m \u001b[43mnp\u001b[49m\u001b[38;5;241;43m.\u001b[39;49m\u001b[43mlinalg\u001b[49m\u001b[38;5;241;43m.\u001b[39;49m\u001b[43mnorm\u001b[49m\u001b[43m(\u001b[49m\u001b[43mresidual\u001b[49m\u001b[43m)\u001b[49m\n\u001b[1;32m     72\u001b[0m     \u001b[38;5;28;01mif\u001b[39;00m resid \u001b[38;5;241m<\u001b[39m\u001b[38;5;241m=\u001b[39m atol:\n\u001b[1;32m     73\u001b[0m         \u001b[38;5;28;01mreturn\u001b[39;00m resid, \u001b[38;5;241m1\u001b[39m\n",
      "File \u001b[0;32m<__array_function__ internals>:200\u001b[0m, in \u001b[0;36mnorm\u001b[0;34m(*args, **kwargs)\u001b[0m\n",
      "File \u001b[0;32m~/miniconda3/envs/bw2/lib/python3.11/site-packages/numpy/linalg/linalg.py:2511\u001b[0m, in \u001b[0;36mnorm\u001b[0;34m(x, ord, axis, keepdims)\u001b[0m\n\u001b[1;32m   2509\u001b[0m     sqnorm \u001b[38;5;241m=\u001b[39m x_real\u001b[38;5;241m.\u001b[39mdot(x_real) \u001b[38;5;241m+\u001b[39m x_imag\u001b[38;5;241m.\u001b[39mdot(x_imag)\n\u001b[1;32m   2510\u001b[0m \u001b[38;5;28;01melse\u001b[39;00m:\n\u001b[0;32m-> 2511\u001b[0m     sqnorm \u001b[38;5;241m=\u001b[39m x\u001b[38;5;241m.\u001b[39mdot(x)\n\u001b[1;32m   2512\u001b[0m ret \u001b[38;5;241m=\u001b[39m sqrt(sqnorm)\n\u001b[1;32m   2513\u001b[0m \u001b[38;5;28;01mif\u001b[39;00m keepdims:\n",
      "\u001b[0;31mKeyboardInterrupt\u001b[0m: "
     ]
    }
   ],
   "source": [
    "import matplotlib.pyplot as plt\n",
    "\n",
    "# MC analysis of wind power production in Sweden \n",
    "\n",
    "ei = bw.Database('ecoinvent_3.6_cutoff')\n",
    "\n",
    "# try with electricity production activity\n",
    "windpower = [act for act in ei if 'electricity production, wind, >3MW turbine, onshore' in act['name'] and act['location'] == 'SE'][0]\n",
    "print('Activity: %s' %windpower)\n",
    "\n",
    "# quick LCA calculation\n",
    "FU = {windpower: 1}\n",
    "method = ('IPCC 2013', 'climate change', 'GWP 100a')\n",
    "print('\\nLCIA method: %s' % str(method))\n",
    "\n",
    "lca = bw.LCA(FU, method)\n",
    "lca.lci()\n",
    "lca.lcia()\n",
    "print('\\nLCA score: %s' %lca.score)\n",
    "\n",
    "# the median is higher than the LCA score\n",
    "# add a progression bar\n",
    "print('\\n>> MONTE CARLO ANALYSIS')\n",
    "mc = bw.MonteCarloLCA(FU, method)  \n",
    "iterations = 10000\n",
    "\n",
    "from tqdm.notebook import tqdm\n",
    "\n",
    "mc_results = []\n",
    "\n",
    "for i in tqdm(range(iterations)):\n",
    "    mc_results.append(next(mc))\n",
    "    \n",
    "print('MC median: %s' %np.median(mc_results))\n",
    "\n",
    "# plot the MC results\n",
    "plt.hist(mc_results, density=True)\n",
    "plt.ylabel(\"Probability\")\n",
    "plt.xlabel('lca.score')"
   ]
  },
  {
   "cell_type": "markdown",
   "id": "18d580f5",
   "metadata": {},
   "source": [
    "The MC analysis with wind power works well. The uncertainty information added manually for each excahnge in each activity is not working. Explore how the MC results are generated from the datasets."
   ]
  },
  {
   "cell_type": "code",
   "execution_count": 24,
   "id": "91cc0767",
   "metadata": {},
   "outputs": [
    {
     "data": {
      "text/plain": [
       "array([2.66638363e-05, 6.87881538e-05, 4.04676297e-05, 7.80356328e-05,\n",
       "       3.61794451e-05, 2.17319721e-05, 5.22746705e-05, 6.88456616e-05,\n",
       "       1.78534287e-05, 2.27898090e-05])"
      ]
     },
     "execution_count": 24,
     "metadata": {},
     "output_type": "execute_result"
    }
   ],
   "source": [
    "# example of a waste exchange with a negative amount \n",
    "waste_exc = list(windpower.exchanges())[0]\n",
    "waste_exc.as_dict()\n",
    "waste_exc.random_sample(n=10)  "
   ]
  },
  {
   "cell_type": "code",
   "execution_count": 38,
   "id": "9ab081e8",
   "metadata": {},
   "outputs": [
    {
     "name": "stdout",
     "output_type": "stream",
     "text": [
      "Activity: 'electricity production, wind, >3MW turbine, onshore' (kilowatt hour, SE, None)\n"
     ]
    }
   ],
   "source": [
    "ei = bw.Database('ecoinvent_3.6_cutoff')\n",
    "\n",
    "# try with electricity production activity\n",
    "windpower = [act for act in ei if 'electricity production, wind, >3MW turbine, onshore' in act['name'] and act['location'] == 'SE'][0]\n",
    "print('Activity: %s' %windpower)"
   ]
  },
  {
   "cell_type": "code",
   "execution_count": 43,
   "id": "925a643d",
   "metadata": {},
   "outputs": [
    {
     "name": "stdout",
     "output_type": "stream",
     "text": [
      "'market for waste mineral oil' (kilogram, Europe without Switzerland, None)\n",
      "'market for network connection, turbine 4.5MW, onshore' (unit, GLO, None)\n",
      "'market for lubricating oil' (kilogram, RER, None)\n",
      "'market for transport, freight, lorry 7.5-16 metric ton, EURO3' (ton kilometer, RER, None)\n",
      "'electricity production, wind, >3MW turbine, onshore' (kilowatt hour, SE, None)\n",
      "'market for wind turbine, 4.5MW, onshore' (unit, GLO, None)\n",
      "'Energy, kinetic (in wind), converted' (megajoule, None, ('natural resource', 'in air'))\n"
     ]
    }
   ],
   "source": [
    "for exc in windpower.exchanges(): \n",
    "    print(exc.input)"
   ]
  },
  {
   "cell_type": "markdown",
   "id": "1c68bf54",
   "metadata": {},
   "source": [
    "The error occurs because the amount of waste exchanges is negative. The loc corresponds to the logarithm of the amount and the ln of a negative value is undefined => it returns nan here. The parameter \"negative: False/True\" can be added to indicate whether the random variable (here the amount) of whether the random variable is negative. useful for generating e.g. \"negative lognormals\". When the amount is negative, the field \"negative\" must be set to True. \n",
    "See: https://stackoverflow.com/questions/45935773/negative-lognormal-results-in-monte-carlo-simulation-with-brightway2"
   ]
  },
  {
   "cell_type": "code",
   "execution_count": null,
   "id": "3f1a2544",
   "metadata": {},
   "outputs": [],
   "source": []
  }
 ],
 "metadata": {
  "kernelspec": {
   "display_name": "Python 3 (ipykernel)",
   "language": "python",
   "name": "python3"
  },
  "language_info": {
   "codemirror_mode": {
    "name": "ipython",
    "version": 3
   },
   "file_extension": ".py",
   "mimetype": "text/x-python",
   "name": "python",
   "nbconvert_exporter": "python",
   "pygments_lexer": "ipython3",
   "version": "3.11.3"
  }
 },
 "nbformat": 4,
 "nbformat_minor": 5
}
